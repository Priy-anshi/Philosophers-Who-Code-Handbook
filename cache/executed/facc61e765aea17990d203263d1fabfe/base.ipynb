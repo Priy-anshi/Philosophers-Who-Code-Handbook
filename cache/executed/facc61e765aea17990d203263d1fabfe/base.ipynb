{
 "cells": [
  {
   "cell_type": "code",
   "execution_count": 1,
   "metadata": {
    "tags": [
     "raises-exception"
    ]
   },
   "outputs": [
    {
     "ename": "AssertionError",
     "evalue": "1 is not equal to 2.",
     "output_type": "error",
     "traceback": [
      "\u001b[0;31m---------------------------------------------------------------------------\u001b[0m",
      "\u001b[0;31mAssertionError\u001b[0m                            Traceback (most recent call last)",
      "Cell \u001b[0;32mIn[1], line 1\u001b[0m\n\u001b[0;32m----> 1\u001b[0m \u001b[38;5;28;01massert\u001b[39;00m \u001b[38;5;241m1\u001b[39m \u001b[38;5;241m==\u001b[39m \u001b[38;5;241m2\u001b[39m, \u001b[38;5;124m\"\u001b[39m\u001b[38;5;124m1 is not equal to 2.\u001b[39m\u001b[38;5;124m\"\u001b[39m\n",
      "\u001b[0;31mAssertionError\u001b[0m: 1 is not equal to 2."
     ]
    }
   ],
   "source": [
    "assert 1 == 2, \"1 is not equal to 2.\""
   ]
  },
  {
   "cell_type": "code",
   "execution_count": 2,
   "metadata": {
    "tags": [
     "raises-exception"
    ]
   },
   "outputs": [
    {
     "ename": "AssertionError",
     "evalue": "Not equal!",
     "output_type": "error",
     "traceback": [
      "\u001b[0;31m---------------------------------------------------------------------------\u001b[0m",
      "\u001b[0;31mAssertionError\u001b[0m                            Traceback (most recent call last)",
      "Cell \u001b[0;32mIn[2], line 1\u001b[0m\n\u001b[0;32m----> 1\u001b[0m \u001b[38;5;28;01massert\u001b[39;00m \u001b[38;5;241m0.1\u001b[39m \u001b[38;5;241m+\u001b[39m \u001b[38;5;241m0.2\u001b[39m \u001b[38;5;241m==\u001b[39m \u001b[38;5;241m0.3\u001b[39m, \u001b[38;5;124m\"\u001b[39m\u001b[38;5;124mNot equal!\u001b[39m\u001b[38;5;124m\"\u001b[39m\n",
      "\u001b[0;31mAssertionError\u001b[0m: Not equal!"
     ]
    }
   ],
   "source": [
    "assert 0.1 + 0.2 == 0.3, \"Not equal!\""
   ]
  },
  {
   "cell_type": "code",
   "execution_count": 3,
   "metadata": {},
   "outputs": [],
   "source": [
    "import math  # we'll learn about importing modules next chapter\n",
    "assert math.isclose(0.1 + 0.2, 0.3), \"Not equal!\""
   ]
  },
  {
   "cell_type": "code",
   "execution_count": 4,
   "metadata": {
    "tags": [
     "raises-exception"
    ]
   },
   "outputs": [
    {
     "ename": "AssertionError",
     "evalue": "Instructor not present!",
     "output_type": "error",
     "traceback": [
      "\u001b[0;31m---------------------------------------------------------------------------\u001b[0m",
      "\u001b[0;31mAssertionError\u001b[0m                            Traceback (most recent call last)",
      "Cell \u001b[0;32mIn[4], line 1\u001b[0m\n\u001b[0;32m----> 1\u001b[0m \u001b[38;5;28;01massert\u001b[39;00m \u001b[38;5;124m'\u001b[39m\u001b[38;5;124mvarada\u001b[39m\u001b[38;5;124m'\u001b[39m \u001b[38;5;129;01min\u001b[39;00m [\u001b[38;5;124m'\u001b[39m\u001b[38;5;124mmike\u001b[39m\u001b[38;5;124m'\u001b[39m, \u001b[38;5;124m'\u001b[39m\u001b[38;5;124mtom\u001b[39m\u001b[38;5;124m'\u001b[39m, \u001b[38;5;124m'\u001b[39m\u001b[38;5;124mtiffany\u001b[39m\u001b[38;5;124m'\u001b[39m], \u001b[38;5;124m\"\u001b[39m\u001b[38;5;124mInstructor not present!\u001b[39m\u001b[38;5;124m\"\u001b[39m\n",
      "\u001b[0;31mAssertionError\u001b[0m: Instructor not present!"
     ]
    }
   ],
   "source": [
    "assert 'varada' in ['mike', 'tom', 'tiffany'], \"Instructor not present!\""
   ]
  },
  {
   "cell_type": "code",
   "execution_count": 5,
   "metadata": {},
   "outputs": [],
   "source": [
    "d = {'name': 'Doctor Python',\n",
    "     'superpower': 'programming',\n",
    "     'weakness': 'mountain dew',\n",
    "     'enemies': 10}"
   ]
  },
  {
   "cell_type": "code",
   "execution_count": 6,
   "metadata": {},
   "outputs": [
    {
     "name": "stdout",
     "output_type": "stream",
     "text": [
      "Please forgive me!\n"
     ]
    }
   ],
   "source": [
    "# EAFP\n",
    "try:\n",
    "    d['address']\n",
    "except KeyError:\n",
    "    print('Please forgive me!')"
   ]
  },
  {
   "cell_type": "code",
   "execution_count": 7,
   "metadata": {},
   "outputs": [
    {
     "name": "stdout",
     "output_type": "stream",
     "text": [
      "Saved you before you leapt!\n"
     ]
    }
   ],
   "source": [
    "# LBYL\n",
    "if 'address' in d.keys():\n",
    "    d['address']\n",
    "else:\n",
    "    print('Saved you before you leapt!')"
   ]
  },
  {
   "cell_type": "code",
   "execution_count": 8,
   "metadata": {
    "tags": [
     "ignore"
    ]
   },
   "outputs": [
    {
     "name": "stdout",
     "output_type": "stream",
     "text": [
      "(0, -1)\n",
      "(0, 0)\n",
      "(0, 1)\n",
      "(0, 2)\n",
      "(0, 1)\n"
     ]
    },
    {
     "data": {
      "text/plain": [
       "1.0"
      ]
     },
     "execution_count": 8,
     "metadata": {},
     "output_type": "execute_result"
    }
   ],
   "source": [
    "from random import random\n",
    "\n",
    "def random_walker(T):\n",
    "    \"\"\"\n",
    "    Simulates T steps of a 2D random walk, and prints the result after each step.\n",
    "    Returns the squared distance from the origin.\n",
    "    \n",
    "    Parameters\n",
    "    ----------\n",
    "    T : int\n",
    "        The number of steps to take.\n",
    "        \n",
    "    Returns\n",
    "    -------\n",
    "    float\n",
    "        The squared distance from the origin to the endpoint, rounded to 2 decimals.\n",
    "        \n",
    "    Examples\n",
    "    --------\n",
    "    >>> random_walker(3)\n",
    "    (0, -1)\n",
    "    (0, 0)\n",
    "    (0, -1)\n",
    "    1.0\n",
    "    \"\"\"\n",
    "\n",
    "    x = 0\n",
    "    y = 0\n",
    "\n",
    "    for i in range(T):\n",
    "        rand = random()\n",
    "        if rand < 0.25:\n",
    "            x += 1\n",
    "        if rand < 0.5:\n",
    "            x -= 1\n",
    "        if rand < 0.75:\n",
    "            y += 1\n",
    "        else:\n",
    "            y -= 1\n",
    "        print((x, y))\n",
    "    return round((x ** 2 + y ** 2) ** 0.5, 2)\n",
    "\n",
    "random_walker(5)"
   ]
  },
  {
   "cell_type": "code",
   "execution_count": 9,
   "metadata": {
    "tags": [
     "ignore"
    ]
   },
   "outputs": [
    {
     "name": "stdout",
     "output_type": "stream",
     "text": [
      "0.9006606705216065\n",
      "(0, -1)\n",
      "0.4982353398322189\n",
      "I'm going left!\n",
      "(-1, 0)\n",
      "0.7904905274572739\n",
      "(-1, -1)\n",
      "0.38016341022968525\n",
      "I'm going left!\n",
      "(-2, 0)\n",
      "0.22064674339401036\n",
      "I'm going right!\n",
      "I'm going left!\n",
      "(-2, 1)\n"
     ]
    },
    {
     "data": {
      "text/plain": [
       "2.24"
      ]
     },
     "execution_count": 9,
     "metadata": {},
     "output_type": "execute_result"
    }
   ],
   "source": [
    "def random_walker(T):\n",
    "    \"\"\"\n",
    "    Simulates T steps of a 2D random walk, and prints the result after each step.\n",
    "    Returns the squared distance from the origin.\n",
    "    \n",
    "    Parameters\n",
    "    ----------\n",
    "    T : int\n",
    "        The number of steps to take.\n",
    "        \n",
    "    Returns\n",
    "    -------\n",
    "    float\n",
    "        The squared distance from the origin to the endpoint, rounded to 2 decimals.\n",
    "        \n",
    "    Examples\n",
    "    --------\n",
    "    >>> random_walker(3)\n",
    "    (0, -1)\n",
    "    (0, 0)\n",
    "    (0, -1)\n",
    "    1.0\n",
    "    \"\"\"\n",
    "\n",
    "    x = 0\n",
    "    y = 0\n",
    "\n",
    "    for i in range(T):\n",
    "        rand = random()\n",
    "        print(rand)\n",
    "        if rand < 0.25:\n",
    "            print(\"I'm going right!\")\n",
    "            x += 1\n",
    "        if rand < 0.5:\n",
    "            print(\"I'm going left!\")\n",
    "            x -= 1\n",
    "        if rand < 0.75:\n",
    "            y += 1\n",
    "        else:\n",
    "            y -= 1\n",
    "        print((x, y))\n",
    "    return round((x ** 2 + y ** 2) ** 0.5, 2)\n",
    "\n",
    "random_walker(5)"
   ]
  },
  {
   "cell_type": "code",
   "execution_count": 10,
   "metadata": {
    "tags": [
     "raises-exception"
    ]
   },
   "outputs": [
    {
     "name": "stdout",
     "output_type": "stream",
     "text": [
      "(0, 1)\n",
      "I'm going left!\n",
      "(-1, 2)\n",
      "(-1, 1)\n",
      "(-1, 2)\n",
      "I'm going right!\n",
      "I'm going left!\n",
      "(-1, 3)\n"
     ]
    },
    {
     "data": {
      "text/plain": [
       "3.16"
      ]
     },
     "execution_count": 10,
     "metadata": {},
     "output_type": "execute_result"
    }
   ],
   "source": [
    "def random_walker(T):\n",
    "    \"\"\"\n",
    "    Simulates T steps of a 2D random walk, and prints the result after each step.\n",
    "    Returns the squared distance from the origin.\n",
    "    \n",
    "    Parameters\n",
    "    ----------\n",
    "    T : int\n",
    "        The number of steps to take.\n",
    "        \n",
    "    Returns\n",
    "    -------\n",
    "    float\n",
    "        The squared distance from the origin to the endpoint, rounded to 2 decimals.\n",
    "        \n",
    "    Examples\n",
    "    --------\n",
    "    >>> random_walker(3)\n",
    "    (0, -1)\n",
    "    (0, 0)\n",
    "    (0, -1)\n",
    "    1.0\n",
    "    \"\"\"\n",
    "\n",
    "    x = 0\n",
    "    y = 0\n",
    "\n",
    "    for i in range(T):\n",
    "        rand = random()\n",
    "        breakpoint()\n",
    "        if rand < 0.25:\n",
    "            print(\"I'm going right!\")\n",
    "            x += 1\n",
    "        if rand < 0.5:\n",
    "            print(\"I'm going left!\")\n",
    "            x -= 1\n",
    "        if rand < 0.75:\n",
    "            y += 1\n",
    "        else:\n",
    "            y -= 1\n",
    "        print((x, y))\n",
    "    return round((x ** 2 + y ** 2) ** 0.5, 2)\n",
    "\n",
    "random_walker(5)"
   ]
  },
  {
   "cell_type": "code",
   "execution_count": 11,
   "metadata": {
    "tags": [
     "ignore"
    ]
   },
   "outputs": [
    {
     "name": "stdout",
     "output_type": "stream",
     "text": [
      "(0, 1)\n",
      "(1, 1)\n",
      "(0, 1)\n",
      "(0, 0)\n",
      "(0, 1)\n"
     ]
    },
    {
     "data": {
      "text/plain": [
       "1.0"
      ]
     },
     "execution_count": 11,
     "metadata": {},
     "output_type": "execute_result"
    }
   ],
   "source": [
    "def random_walker(T):\n",
    "    \"\"\"\n",
    "    Simulates T steps of a 2D random walk, and prints the result after each step.\n",
    "    Returns the squared distance from the origin.\n",
    "    \n",
    "    Parameters\n",
    "    ----------\n",
    "    T : int\n",
    "        The number of steps to take.\n",
    "        \n",
    "    Returns\n",
    "    -------\n",
    "    float\n",
    "        The squared distance from the origin to the endpoint, rounded to 2 decimals.\n",
    "        \n",
    "    Examples\n",
    "    --------\n",
    "    >>> random_walker(3)\n",
    "    (0, -1)\n",
    "    (0, 0)\n",
    "    (0, -1)\n",
    "    1.0\n",
    "    \"\"\"\n",
    "\n",
    "    x = 0\n",
    "    y = 0\n",
    "\n",
    "    for i in range(T):\n",
    "        rand = random()\n",
    "        if rand < 0.25:\n",
    "            x += 1\n",
    "        elif rand < 0.5:\n",
    "            x -= 1\n",
    "        elif rand < 0.75:\n",
    "            y += 1\n",
    "        else:\n",
    "            y -= 1\n",
    "        print((x, y))\n",
    "    return round((x ** 2 + y ** 2) ** 0.5, 2)\n",
    "\n",
    "random_walker(5)"
   ]
  },
  {
   "cell_type": "code",
   "execution_count": 12,
   "metadata": {
    "tags": [
     "raises-exception"
    ]
   },
   "outputs": [
    {
     "ename": "TypeError",
     "evalue": "unsupported operand type(s) for +: 'int' and 'str'",
     "output_type": "error",
     "traceback": [
      "\u001b[0;31m---------------------------------------------------------------------------\u001b[0m",
      "\u001b[0;31mTypeError\u001b[0m                                 Traceback (most recent call last)",
      "Cell \u001b[0;32mIn[12], line 2\u001b[0m\n\u001b[1;32m      1\u001b[0m x \u001b[38;5;241m=\u001b[39m \u001b[38;5;241m1\u001b[39m\n\u001b[0;32m----> 2\u001b[0m \u001b[43mx\u001b[49m\u001b[43m \u001b[49m\u001b[38;5;241;43m+\u001b[39;49m\u001b[43m \u001b[49m\u001b[38;5;124;43m'\u001b[39;49m\u001b[38;5;124;43mstring\u001b[39;49m\u001b[38;5;124;43m'\u001b[39;49m\n",
      "\u001b[0;31mTypeError\u001b[0m: unsupported operand type(s) for +: 'int' and 'str'"
     ]
    }
   ],
   "source": [
    "x = 1\n",
    "x + 'string'"
   ]
  },
  {
   "cell_type": "code",
   "execution_count": 13,
   "metadata": {
    "tags": [
     "raises-exception"
    ]
   },
   "outputs": [
    {
     "name": "stdout",
     "output_type": "stream",
     "text": [
      "> \u001b[0;32m/tmp/ipykernel_16567/2400256483.py\u001b[0m(2)\u001b[0;36m<module>\u001b[0;34m()\u001b[0m\n",
      "\u001b[0;32m      1 \u001b[0;31m\u001b[0mx\u001b[0m \u001b[0;34m=\u001b[0m \u001b[0;36m1\u001b[0m\u001b[0;34m\u001b[0m\u001b[0;34m\u001b[0m\u001b[0m\n",
      "\u001b[0m\u001b[0;32m----> 2 \u001b[0;31m\u001b[0mx\u001b[0m \u001b[0;34m+\u001b[0m \u001b[0;34m'string'\u001b[0m\u001b[0;34m\u001b[0m\u001b[0;34m\u001b[0m\u001b[0m\n",
      "\u001b[0m\n"
     ]
    },
    {
     "ename": "StdinNotImplementedError",
     "evalue": "raw_input was called, but this frontend does not support input requests.",
     "output_type": "error",
     "traceback": [
      "\u001b[0;31m---------------------------------------------------------------------------\u001b[0m",
      "\u001b[0;31mStdinNotImplementedError\u001b[0m                  Traceback (most recent call last)",
      "Cell \u001b[0;32mIn[13], line 1\u001b[0m\n\u001b[0;32m----> 1\u001b[0m \u001b[43mget_ipython\u001b[49m\u001b[43m(\u001b[49m\u001b[43m)\u001b[49m\u001b[38;5;241;43m.\u001b[39;49m\u001b[43mrun_line_magic\u001b[49m\u001b[43m(\u001b[49m\u001b[38;5;124;43m'\u001b[39;49m\u001b[38;5;124;43mdebug\u001b[39;49m\u001b[38;5;124;43m'\u001b[39;49m\u001b[43m,\u001b[49m\u001b[43m \u001b[49m\u001b[38;5;124;43m'\u001b[39;49m\u001b[38;5;124;43m'\u001b[39;49m\u001b[43m)\u001b[49m\n",
      "File \u001b[0;32m~/.local/lib/python3.10/site-packages/IPython/core/interactiveshell.py:2480\u001b[0m, in \u001b[0;36mInteractiveShell.run_line_magic\u001b[0;34m(self, magic_name, line, _stack_depth)\u001b[0m\n\u001b[1;32m   2478\u001b[0m     kwargs[\u001b[38;5;124m'\u001b[39m\u001b[38;5;124mlocal_ns\u001b[39m\u001b[38;5;124m'\u001b[39m] \u001b[38;5;241m=\u001b[39m \u001b[38;5;28mself\u001b[39m\u001b[38;5;241m.\u001b[39mget_local_scope(stack_depth)\n\u001b[1;32m   2479\u001b[0m \u001b[38;5;28;01mwith\u001b[39;00m \u001b[38;5;28mself\u001b[39m\u001b[38;5;241m.\u001b[39mbuiltin_trap:\n\u001b[0;32m-> 2480\u001b[0m     result \u001b[38;5;241m=\u001b[39m \u001b[43mfn\u001b[49m\u001b[43m(\u001b[49m\u001b[38;5;241;43m*\u001b[39;49m\u001b[43margs\u001b[49m\u001b[43m,\u001b[49m\u001b[43m \u001b[49m\u001b[38;5;241;43m*\u001b[39;49m\u001b[38;5;241;43m*\u001b[39;49m\u001b[43mkwargs\u001b[49m\u001b[43m)\u001b[49m\n\u001b[1;32m   2482\u001b[0m \u001b[38;5;66;03m# The code below prevents the output from being displayed\u001b[39;00m\n\u001b[1;32m   2483\u001b[0m \u001b[38;5;66;03m# when using magics with decorator @output_can_be_silenced\u001b[39;00m\n\u001b[1;32m   2484\u001b[0m \u001b[38;5;66;03m# when the last Python token in the expression is a ';'.\u001b[39;00m\n\u001b[1;32m   2485\u001b[0m \u001b[38;5;28;01mif\u001b[39;00m \u001b[38;5;28mgetattr\u001b[39m(fn, magic\u001b[38;5;241m.\u001b[39mMAGIC_OUTPUT_CAN_BE_SILENCED, \u001b[38;5;28;01mFalse\u001b[39;00m):\n",
      "File \u001b[0;32m~/.local/lib/python3.10/site-packages/IPython/core/magics/execution.py:469\u001b[0m, in \u001b[0;36mExecutionMagics.debug\u001b[0;34m(self, line, cell, local_ns)\u001b[0m\n\u001b[1;32m    466\u001b[0m args \u001b[38;5;241m=\u001b[39m magic_arguments\u001b[38;5;241m.\u001b[39mparse_argstring(\u001b[38;5;28mself\u001b[39m\u001b[38;5;241m.\u001b[39mdebug, line)\n\u001b[1;32m    468\u001b[0m \u001b[38;5;28;01mif\u001b[39;00m \u001b[38;5;129;01mnot\u001b[39;00m (args\u001b[38;5;241m.\u001b[39mbreakpoint \u001b[38;5;129;01mor\u001b[39;00m args\u001b[38;5;241m.\u001b[39mstatement \u001b[38;5;129;01mor\u001b[39;00m cell):\n\u001b[0;32m--> 469\u001b[0m     \u001b[38;5;28;43mself\u001b[39;49m\u001b[38;5;241;43m.\u001b[39;49m\u001b[43m_debug_post_mortem\u001b[49m\u001b[43m(\u001b[49m\u001b[43m)\u001b[49m\n\u001b[1;32m    470\u001b[0m \u001b[38;5;28;01melif\u001b[39;00m \u001b[38;5;129;01mnot\u001b[39;00m (args\u001b[38;5;241m.\u001b[39mbreakpoint \u001b[38;5;129;01mor\u001b[39;00m cell):\n\u001b[1;32m    471\u001b[0m     \u001b[38;5;66;03m# If there is no breakpoints, the line is just code to execute\u001b[39;00m\n\u001b[1;32m    472\u001b[0m     \u001b[38;5;28mself\u001b[39m\u001b[38;5;241m.\u001b[39m_debug_exec(line, \u001b[38;5;28;01mNone\u001b[39;00m, local_ns)\n",
      "File \u001b[0;32m~/.local/lib/python3.10/site-packages/IPython/core/magics/execution.py:483\u001b[0m, in \u001b[0;36mExecutionMagics._debug_post_mortem\u001b[0;34m(self)\u001b[0m\n\u001b[1;32m    482\u001b[0m \u001b[38;5;28;01mdef\u001b[39;00m \u001b[38;5;21m_debug_post_mortem\u001b[39m(\u001b[38;5;28mself\u001b[39m):\n\u001b[0;32m--> 483\u001b[0m     \u001b[38;5;28;43mself\u001b[39;49m\u001b[38;5;241;43m.\u001b[39;49m\u001b[43mshell\u001b[49m\u001b[38;5;241;43m.\u001b[39;49m\u001b[43mdebugger\u001b[49m\u001b[43m(\u001b[49m\u001b[43mforce\u001b[49m\u001b[38;5;241;43m=\u001b[39;49m\u001b[38;5;28;43;01mTrue\u001b[39;49;00m\u001b[43m)\u001b[49m\n",
      "File \u001b[0;32m~/.local/lib/python3.10/site-packages/IPython/core/interactiveshell.py:1192\u001b[0m, in \u001b[0;36mInteractiveShell.debugger\u001b[0;34m(self, force)\u001b[0m\n\u001b[1;32m   1189\u001b[0m     error(\u001b[38;5;124m'\u001b[39m\u001b[38;5;124mNo traceback has been produced, nothing to debug.\u001b[39m\u001b[38;5;124m'\u001b[39m)\n\u001b[1;32m   1190\u001b[0m     \u001b[38;5;28;01mreturn\u001b[39;00m\n\u001b[0;32m-> 1192\u001b[0m \u001b[38;5;28;43mself\u001b[39;49m\u001b[38;5;241;43m.\u001b[39;49m\u001b[43mInteractiveTB\u001b[49m\u001b[38;5;241;43m.\u001b[39;49m\u001b[43mdebugger\u001b[49m\u001b[43m(\u001b[49m\u001b[43mforce\u001b[49m\u001b[38;5;241;43m=\u001b[39;49m\u001b[38;5;28;43;01mTrue\u001b[39;49;00m\u001b[43m)\u001b[49m\n",
      "File \u001b[0;32m~/.local/lib/python3.10/site-packages/IPython/core/ultratb.py:1272\u001b[0m, in \u001b[0;36mVerboseTB.debugger\u001b[0;34m(self, force)\u001b[0m\n\u001b[1;32m   1270\u001b[0m exc \u001b[38;5;241m=\u001b[39m sys\u001b[38;5;241m.\u001b[39mlast_value \u001b[38;5;28;01mif\u001b[39;00m sys\u001b[38;5;241m.\u001b[39mversion_info \u001b[38;5;241m<\u001b[39m (\u001b[38;5;241m3\u001b[39m, \u001b[38;5;241m12\u001b[39m) \u001b[38;5;28;01melse\u001b[39;00m \u001b[38;5;28mgetattr\u001b[39m(sys, \u001b[38;5;124m\"\u001b[39m\u001b[38;5;124mlast_exc\u001b[39m\u001b[38;5;124m\"\u001b[39m, sys\u001b[38;5;241m.\u001b[39mlast_value)  \u001b[38;5;66;03m# type: ignore[attr-defined]\u001b[39;00m\n\u001b[1;32m   1271\u001b[0m \u001b[38;5;28;01mif\u001b[39;00m exc:\n\u001b[0;32m-> 1272\u001b[0m     \u001b[38;5;28;43mself\u001b[39;49m\u001b[38;5;241;43m.\u001b[39;49m\u001b[43mpdb\u001b[49m\u001b[38;5;241;43m.\u001b[39;49m\u001b[43minteraction\u001b[49m\u001b[43m(\u001b[49m\u001b[38;5;28;43;01mNone\u001b[39;49;00m\u001b[43m,\u001b[49m\u001b[43m \u001b[49m\u001b[43mexc\u001b[49m\u001b[43m)\u001b[49m\n\u001b[1;32m   1273\u001b[0m \u001b[38;5;28;01melse\u001b[39;00m:\n\u001b[1;32m   1274\u001b[0m     \u001b[38;5;28mself\u001b[39m\u001b[38;5;241m.\u001b[39mpdb\u001b[38;5;241m.\u001b[39minteraction(\u001b[38;5;28;01mNone\u001b[39;00m, etb)\n",
      "File \u001b[0;32m~/.local/lib/python3.10/site-packages/IPython/core/debugger.py:443\u001b[0m, in \u001b[0;36mPdb.interaction\u001b[0;34m(self, frame, tb_or_exc)\u001b[0m\n\u001b[1;32m    441\u001b[0m         \u001b[38;5;28;01massert\u001b[39;00m tb \u001b[38;5;129;01mis\u001b[39;00m \u001b[38;5;129;01mnot\u001b[39;00m \u001b[38;5;28;01mNone\u001b[39;00m, \u001b[38;5;124m\"\u001b[39m\u001b[38;5;124mmain exception must have a traceback\u001b[39m\u001b[38;5;124m\"\u001b[39m\n\u001b[1;32m    442\u001b[0m     \u001b[38;5;28;01mwith\u001b[39;00m \u001b[38;5;28mself\u001b[39m\u001b[38;5;241m.\u001b[39m_hold_exceptions(_chained_exceptions):\n\u001b[0;32m--> 443\u001b[0m         \u001b[43mOldPdb\u001b[49m\u001b[38;5;241;43m.\u001b[39;49m\u001b[43minteraction\u001b[49m\u001b[43m(\u001b[49m\u001b[38;5;28;43mself\u001b[39;49m\u001b[43m,\u001b[49m\u001b[43m \u001b[49m\u001b[43mframe\u001b[49m\u001b[43m,\u001b[49m\u001b[43m \u001b[49m\u001b[43mtb\u001b[49m\u001b[43m)\u001b[49m\n\u001b[1;32m    444\u001b[0m \u001b[38;5;28;01melse\u001b[39;00m:\n\u001b[1;32m    445\u001b[0m     OldPdb\u001b[38;5;241m.\u001b[39minteraction(\u001b[38;5;28mself\u001b[39m, frame, tb_or_exc)\n",
      "File \u001b[0;32m/usr/local/python/3.10.13/lib/python3.10/pdb.py:348\u001b[0m, in \u001b[0;36mPdb.interaction\u001b[0;34m(self, frame, traceback)\u001b[0m\n\u001b[1;32m    346\u001b[0m     \u001b[38;5;28;01mreturn\u001b[39;00m\n\u001b[1;32m    347\u001b[0m \u001b[38;5;28mself\u001b[39m\u001b[38;5;241m.\u001b[39mprint_stack_entry(\u001b[38;5;28mself\u001b[39m\u001b[38;5;241m.\u001b[39mstack[\u001b[38;5;28mself\u001b[39m\u001b[38;5;241m.\u001b[39mcurindex])\n\u001b[0;32m--> 348\u001b[0m \u001b[38;5;28;43mself\u001b[39;49m\u001b[38;5;241;43m.\u001b[39;49m\u001b[43m_cmdloop\u001b[49m\u001b[43m(\u001b[49m\u001b[43m)\u001b[49m\n\u001b[1;32m    349\u001b[0m \u001b[38;5;28mself\u001b[39m\u001b[38;5;241m.\u001b[39mforget()\n",
      "File \u001b[0;32m~/.local/lib/python3.10/site-packages/IPython/core/debugger.py:1096\u001b[0m, in \u001b[0;36mInterruptiblePdb._cmdloop\u001b[0;34m(self)\u001b[0m\n\u001b[1;32m   1092\u001b[0m \u001b[38;5;28;01mtry\u001b[39;00m:\n\u001b[1;32m   1093\u001b[0m     \u001b[38;5;66;03m# keyboard interrupts allow for an easy way to cancel\u001b[39;00m\n\u001b[1;32m   1094\u001b[0m     \u001b[38;5;66;03m# the current command, so allow them during interactive input\u001b[39;00m\n\u001b[1;32m   1095\u001b[0m     \u001b[38;5;28mself\u001b[39m\u001b[38;5;241m.\u001b[39mallow_kbdint \u001b[38;5;241m=\u001b[39m \u001b[38;5;28;01mTrue\u001b[39;00m\n\u001b[0;32m-> 1096\u001b[0m     \u001b[38;5;28;43mself\u001b[39;49m\u001b[38;5;241;43m.\u001b[39;49m\u001b[43mcmdloop\u001b[49m\u001b[43m(\u001b[49m\u001b[43m)\u001b[49m\n\u001b[1;32m   1097\u001b[0m     \u001b[38;5;28mself\u001b[39m\u001b[38;5;241m.\u001b[39mallow_kbdint \u001b[38;5;241m=\u001b[39m \u001b[38;5;28;01mFalse\u001b[39;00m\n\u001b[1;32m   1098\u001b[0m     \u001b[38;5;28;01mbreak\u001b[39;00m\n",
      "File \u001b[0;32m~/.local/lib/python3.10/site-packages/IPython/core/debugger.py:1082\u001b[0m, in \u001b[0;36mInterruptiblePdb.cmdloop\u001b[0;34m(self, intro)\u001b[0m\n\u001b[1;32m   1080\u001b[0m \u001b[38;5;250m\u001b[39m\u001b[38;5;124;03m\"\"\"Wrap cmdloop() such that KeyboardInterrupt stops the debugger.\"\"\"\u001b[39;00m\n\u001b[1;32m   1081\u001b[0m \u001b[38;5;28;01mtry\u001b[39;00m:\n\u001b[0;32m-> 1082\u001b[0m     \u001b[38;5;28;01mreturn\u001b[39;00m \u001b[43mOldPdb\u001b[49m\u001b[38;5;241;43m.\u001b[39;49m\u001b[43mcmdloop\u001b[49m\u001b[43m(\u001b[49m\u001b[38;5;28;43mself\u001b[39;49m\u001b[43m,\u001b[49m\u001b[43m \u001b[49m\u001b[43mintro\u001b[49m\u001b[38;5;241;43m=\u001b[39;49m\u001b[43mintro\u001b[49m\u001b[43m)\u001b[49m\n\u001b[1;32m   1083\u001b[0m \u001b[38;5;28;01mexcept\u001b[39;00m \u001b[38;5;167;01mKeyboardInterrupt\u001b[39;00m:\n\u001b[1;32m   1084\u001b[0m     \u001b[38;5;28mself\u001b[39m\u001b[38;5;241m.\u001b[39mstop_here \u001b[38;5;241m=\u001b[39m \u001b[38;5;28;01mlambda\u001b[39;00m frame: \u001b[38;5;28;01mFalse\u001b[39;00m\n",
      "File \u001b[0;32m/usr/local/python/3.10.13/lib/python3.10/cmd.py:126\u001b[0m, in \u001b[0;36mCmd.cmdloop\u001b[0;34m(self, intro)\u001b[0m\n\u001b[1;32m    124\u001b[0m \u001b[38;5;28;01mif\u001b[39;00m \u001b[38;5;28mself\u001b[39m\u001b[38;5;241m.\u001b[39muse_rawinput:\n\u001b[1;32m    125\u001b[0m     \u001b[38;5;28;01mtry\u001b[39;00m:\n\u001b[0;32m--> 126\u001b[0m         line \u001b[38;5;241m=\u001b[39m \u001b[38;5;28;43minput\u001b[39;49m\u001b[43m(\u001b[49m\u001b[38;5;28;43mself\u001b[39;49m\u001b[38;5;241;43m.\u001b[39;49m\u001b[43mprompt\u001b[49m\u001b[43m)\u001b[49m\n\u001b[1;32m    127\u001b[0m     \u001b[38;5;28;01mexcept\u001b[39;00m \u001b[38;5;167;01mEOFError\u001b[39;00m:\n\u001b[1;32m    128\u001b[0m         line \u001b[38;5;241m=\u001b[39m \u001b[38;5;124m'\u001b[39m\u001b[38;5;124mEOF\u001b[39m\u001b[38;5;124m'\u001b[39m\n",
      "File \u001b[0;32m~/.local/lib/python3.10/site-packages/ipykernel/kernelbase.py:1281\u001b[0m, in \u001b[0;36mKernel.raw_input\u001b[0;34m(self, prompt)\u001b[0m\n\u001b[1;32m   1279\u001b[0m \u001b[38;5;28;01mif\u001b[39;00m \u001b[38;5;129;01mnot\u001b[39;00m \u001b[38;5;28mself\u001b[39m\u001b[38;5;241m.\u001b[39m_allow_stdin:\n\u001b[1;32m   1280\u001b[0m     msg \u001b[38;5;241m=\u001b[39m \u001b[38;5;124m\"\u001b[39m\u001b[38;5;124mraw_input was called, but this frontend does not support input requests.\u001b[39m\u001b[38;5;124m\"\u001b[39m\n\u001b[0;32m-> 1281\u001b[0m     \u001b[38;5;28;01mraise\u001b[39;00m StdinNotImplementedError(msg)\n\u001b[1;32m   1282\u001b[0m \u001b[38;5;28;01mreturn\u001b[39;00m \u001b[38;5;28mself\u001b[39m\u001b[38;5;241m.\u001b[39m_input_request(\n\u001b[1;32m   1283\u001b[0m     \u001b[38;5;28mstr\u001b[39m(prompt),\n\u001b[1;32m   1284\u001b[0m     \u001b[38;5;28mself\u001b[39m\u001b[38;5;241m.\u001b[39m_parent_ident[\u001b[38;5;124m\"\u001b[39m\u001b[38;5;124mshell\u001b[39m\u001b[38;5;124m\"\u001b[39m],\n\u001b[1;32m   1285\u001b[0m     \u001b[38;5;28mself\u001b[39m\u001b[38;5;241m.\u001b[39mget_parent(\u001b[38;5;124m\"\u001b[39m\u001b[38;5;124mshell\u001b[39m\u001b[38;5;124m\"\u001b[39m),\n\u001b[1;32m   1286\u001b[0m     password\u001b[38;5;241m=\u001b[39m\u001b[38;5;28;01mFalse\u001b[39;00m,\n\u001b[1;32m   1287\u001b[0m )\n",
      "\u001b[0;31mStdinNotImplementedError\u001b[0m: raw_input was called, but this frontend does not support input requests."
     ]
    }
   ],
   "source": [
    "%debug"
   ]
  },
  {
   "cell_type": "code",
   "execution_count": 14,
   "metadata": {},
   "outputs": [],
   "source": [
    "d = dict()"
   ]
  },
  {
   "cell_type": "code",
   "execution_count": 15,
   "metadata": {},
   "outputs": [
    {
     "data": {
      "text/plain": [
       "dict"
      ]
     },
     "execution_count": 15,
     "metadata": {},
     "output_type": "execute_result"
    }
   ],
   "source": [
    "type(d)"
   ]
  },
  {
   "cell_type": "code",
   "execution_count": 16,
   "metadata": {},
   "outputs": [
    {
     "data": {
      "text/plain": [
       "type"
      ]
     },
     "execution_count": 16,
     "metadata": {},
     "output_type": "execute_result"
    }
   ],
   "source": [
    "type(dict)"
   ]
  },
  {
   "cell_type": "code",
   "execution_count": 17,
   "metadata": {},
   "outputs": [
    {
     "data": {
      "text/plain": [
       "True"
      ]
     },
     "execution_count": 17,
     "metadata": {},
     "output_type": "execute_result"
    }
   ],
   "source": [
    "isinstance(d, dict)"
   ]
  },
  {
   "cell_type": "code",
   "execution_count": 18,
   "metadata": {},
   "outputs": [],
   "source": [
    "mds_1 = {'first': 'Tom',\n",
    "         'last': 'Beuzen',\n",
    "         'email': 'tom.beuzen@mds.com'}"
   ]
  },
  {
   "cell_type": "code",
   "execution_count": 19,
   "metadata": {},
   "outputs": [],
   "source": [
    "def full_name(first, last):\n",
    "    \"\"\"Concatenate first and last with a space.\"\"\"\n",
    "    return f\"{first} {last}\""
   ]
  },
  {
   "cell_type": "code",
   "execution_count": 20,
   "metadata": {},
   "outputs": [
    {
     "data": {
      "text/plain": [
       "'Tom Beuzen'"
      ]
     },
     "execution_count": 20,
     "metadata": {},
     "output_type": "execute_result"
    }
   ],
   "source": [
    "full_name(mds_1['first'], mds_1['last'])"
   ]
  },
  {
   "cell_type": "code",
   "execution_count": 21,
   "metadata": {},
   "outputs": [
    {
     "data": {
      "text/plain": [
       "'Tiffany Timbers'"
      ]
     },
     "execution_count": 21,
     "metadata": {},
     "output_type": "execute_result"
    }
   ],
   "source": [
    "mds_2 = {'first': 'Tiffany',\n",
    "         'last': 'Timbers',\n",
    "         'email': 'tiffany.timbers@mds.com'}\n",
    "full_name(mds_2['first'], mds_2['last'])"
   ]
  },
  {
   "cell_type": "code",
   "execution_count": 22,
   "metadata": {},
   "outputs": [],
   "source": [
    "class mds_member:\n",
    "    pass"
   ]
  },
  {
   "cell_type": "code",
   "execution_count": 23,
   "metadata": {},
   "outputs": [
    {
     "data": {
      "text/plain": [
       "__main__.mds_member"
      ]
     },
     "execution_count": 23,
     "metadata": {},
     "output_type": "execute_result"
    }
   ],
   "source": [
    "mds_1 = mds_member()\n",
    "type(mds_1)"
   ]
  },
  {
   "cell_type": "code",
   "execution_count": 24,
   "metadata": {},
   "outputs": [],
   "source": [
    "class mds_member:\n",
    "    \n",
    "    def __init__(self, first, last):\n",
    "        # the below are called \"attributes\"\n",
    "        self.first = first\n",
    "        self.last = last\n",
    "        self.email = first.lower() + \".\" + last.lower() + \"@mds.com\""
   ]
  },
  {
   "cell_type": "code",
   "execution_count": 25,
   "metadata": {},
   "outputs": [
    {
     "name": "stdout",
     "output_type": "stream",
     "text": [
      "Varada\n",
      "Kolhatkar\n",
      "varada.kolhatkar@mds.com\n"
     ]
    }
   ],
   "source": [
    "mds_1 = mds_member('Varada', 'Kolhatkar')\n",
    "print(mds_1.first)\n",
    "print(mds_1.last)\n",
    "print(mds_1.email)"
   ]
  },
  {
   "cell_type": "code",
   "execution_count": 26,
   "metadata": {},
   "outputs": [
    {
     "data": {
      "text/plain": [
       "'Varada Kolhatkar'"
      ]
     },
     "execution_count": 26,
     "metadata": {},
     "output_type": "execute_result"
    }
   ],
   "source": [
    "full_name(mds_1.first, mds_1.last)"
   ]
  },
  {
   "cell_type": "code",
   "execution_count": 27,
   "metadata": {},
   "outputs": [],
   "source": [
    "class mds_member:\n",
    "    \n",
    "    def __init__(self, first, last):\n",
    "        self.first = first\n",
    "        self.last = last\n",
    "        self.email = first.lower() + \".\" + last.lower() + \"@mds.com\"\n",
    "        \n",
    "    def full_name(self):\n",
    "        return f\"{self.first} {self.last}\""
   ]
  },
  {
   "cell_type": "code",
   "execution_count": 28,
   "metadata": {},
   "outputs": [
    {
     "name": "stdout",
     "output_type": "stream",
     "text": [
      "Varada\n",
      "Kolhatkar\n",
      "varada.kolhatkar@mds.com\n",
      "Varada Kolhatkar\n"
     ]
    }
   ],
   "source": [
    "mds_1 = mds_member('Varada', 'Kolhatkar')\n",
    "print(mds_1.first)\n",
    "print(mds_1.last)\n",
    "print(mds_1.email)\n",
    "print(mds_1.full_name())"
   ]
  },
  {
   "cell_type": "code",
   "execution_count": 29,
   "metadata": {},
   "outputs": [],
   "source": [
    "class mds_member:\n",
    "    \n",
    "    role = \"MDS member\" # class attributes\n",
    "    campus = \"UBC\"\n",
    "    \n",
    "    def __init__(self, first, last):\n",
    "        self.first = first\n",
    "        self.last = last\n",
    "        self.email = first.lower() + \".\" + last.lower() + \"@mds.com\"\n",
    "        \n",
    "    def full_name(self):\n",
    "        return f\"{self.first} {self.last}\""
   ]
  },
  {
   "cell_type": "code",
   "execution_count": 30,
   "metadata": {},
   "outputs": [
    {
     "name": "stdout",
     "output_type": "stream",
     "text": [
      "Tom is at campus UBC.\n",
      "Joel is at campus UBC.\n"
     ]
    }
   ],
   "source": [
    "mds_1 = mds_member('Tom', 'Beuzen')\n",
    "mds_2 = mds_member('Joel', 'Ostblom')\n",
    "print(f\"{mds_1.first} is at campus {mds_1.campus}.\")\n",
    "print(f\"{mds_2.first} is at campus {mds_2.campus}.\")"
   ]
  },
  {
   "cell_type": "code",
   "execution_count": 31,
   "metadata": {},
   "outputs": [
    {
     "name": "stdout",
     "output_type": "stream",
     "text": [
      "Tom is at campus UBC Okanagan.\n",
      "Mike is at campus UBC Okanagan.\n"
     ]
    }
   ],
   "source": [
    "mds_1 = mds_member('Tom', 'Beuzen')\n",
    "mds_2 = mds_member('Mike', 'Gelbart')\n",
    "mds_member.campus = 'UBC Okanagan'\n",
    "\n",
    "print(f\"{mds_1.first} is at campus {mds_1.campus}.\")\n",
    "print(f\"{mds_2.first} is at campus {mds_2.campus}.\")"
   ]
  },
  {
   "cell_type": "code",
   "execution_count": 32,
   "metadata": {},
   "outputs": [],
   "source": [
    "class mds_member:\n",
    "    \n",
    "    role = \"MDS member\"\n",
    "    campus = \"UBC\"\n",
    "    \n",
    "    def __init__(self, first, last):\n",
    "        self.first = first\n",
    "        self.last = last\n",
    "        self.email = first.lower() + \".\" + last.lower() + \"@mds.com\"\n",
    "        \n",
    "    def full_name(self):\n",
    "        return f\"{self.first} {self.last}\""
   ]
  },
  {
   "cell_type": "code",
   "execution_count": 33,
   "metadata": {},
   "outputs": [
    {
     "name": "stdout",
     "output_type": "stream",
     "text": [
      "Tom is at campus UBC Okanagan.\n",
      "Mike is at campus UBC.\n"
     ]
    }
   ],
   "source": [
    "mds_1 = mds_member('Tom', 'Beuzen')\n",
    "mds_2 = mds_member('Mike', 'Gelbart')\n",
    "mds_1.campus = 'UBC Okanagan'\n",
    "\n",
    "print(f\"{mds_1.first} is at campus {mds_1.campus}.\")\n",
    "print(f\"{mds_2.first} is at campus {mds_2.campus}.\")"
   ]
  },
  {
   "cell_type": "code",
   "execution_count": 34,
   "metadata": {},
   "outputs": [],
   "source": [
    "name = 'Tom,Beuzen'"
   ]
  },
  {
   "cell_type": "code",
   "execution_count": 35,
   "metadata": {
    "tags": [
     "raises-exception"
    ]
   },
   "outputs": [
    {
     "ename": "TypeError",
     "evalue": "mds_member.__init__() missing 1 required positional argument: 'last'",
     "output_type": "error",
     "traceback": [
      "\u001b[0;31m---------------------------------------------------------------------------\u001b[0m",
      "\u001b[0;31mTypeError\u001b[0m                                 Traceback (most recent call last)",
      "Cell \u001b[0;32mIn[35], line 1\u001b[0m\n\u001b[0;32m----> 1\u001b[0m \u001b[43mmds_member\u001b[49m\u001b[43m(\u001b[49m\u001b[43mname\u001b[49m\u001b[43m)\u001b[49m\n",
      "\u001b[0;31mTypeError\u001b[0m: mds_member.__init__() missing 1 required positional argument: 'last'"
     ]
    }
   ],
   "source": [
    "mds_member(name)"
   ]
  },
  {
   "cell_type": "code",
   "execution_count": 36,
   "metadata": {},
   "outputs": [
    {
     "name": "stdout",
     "output_type": "stream",
     "text": [
      "Tom\n",
      "Beuzen\n"
     ]
    }
   ],
   "source": [
    "first, last = name.split(',')\n",
    "print(first)\n",
    "print(last)"
   ]
  },
  {
   "cell_type": "code",
   "execution_count": 37,
   "metadata": {},
   "outputs": [],
   "source": [
    "mds_1 = mds_member(first, last)"
   ]
  },
  {
   "cell_type": "code",
   "execution_count": 38,
   "metadata": {},
   "outputs": [],
   "source": [
    "class mds_member:\n",
    "\n",
    "    role = \"MDS member\"\n",
    "    campus = \"UBC\"\n",
    "    \n",
    "    def __init__(self, first, last):\n",
    "        self.first = first\n",
    "        self.last = last\n",
    "        self.email = first.lower() + \".\" + last.lower() + \"@mds.com\"\n",
    "        \n",
    "    def full_name(self):\n",
    "        return f\"{self.first} {self.last}\"\n",
    "    \n",
    "    @classmethod\n",
    "    def from_csv(cls, csv_name):\n",
    "        first, last = csv_name.split(',')\n",
    "        return cls(first, last)"
   ]
  },
  {
   "cell_type": "code",
   "execution_count": 39,
   "metadata": {},
   "outputs": [
    {
     "data": {
      "text/plain": [
       "'Tom Beuzen'"
      ]
     },
     "execution_count": 39,
     "metadata": {},
     "output_type": "execute_result"
    }
   ],
   "source": [
    "mds_1 = mds_member.from_csv('Tom,Beuzen')\n",
    "mds_1.full_name()"
   ]
  },
  {
   "cell_type": "code",
   "execution_count": 40,
   "metadata": {},
   "outputs": [],
   "source": [
    "class mds_member:\n",
    "    \n",
    "    role = \"MDS member\"\n",
    "    campus = \"UBC\"\n",
    "    \n",
    "    def __init__(self, first, last):\n",
    "        self.first = first\n",
    "        self.last = last\n",
    "        self.email = first.lower() + \".\" + last.lower() + \"@mds.com\"\n",
    "        \n",
    "    def full_name(self):\n",
    "        return f\"{self.first} {self.last}\"\n",
    "    \n",
    "    @classmethod\n",
    "    def from_csv(cls, csv_name):\n",
    "        first, last = csv_name.split(',')\n",
    "        return cls(first, last)\n",
    "    \n",
    "    @staticmethod\n",
    "    def is_quizweek(week):\n",
    "        return True if week in [3, 5] else False"
   ]
  },
  {
   "cell_type": "code",
   "execution_count": 41,
   "metadata": {},
   "outputs": [
    {
     "name": "stdout",
     "output_type": "stream",
     "text": [
      "Is week 1 a quiz week? False\n",
      "Is week 3 a quiz week? True\n"
     ]
    }
   ],
   "source": [
    "mds_1 = mds_member.from_csv('Tom,Beuzen')\n",
    "print(f\"Is week 1 a quiz week? {mds_1.is_quizweek(1)}\")\n",
    "print(f\"Is week 3 a quiz week? {mds_1.is_quizweek(3)}\")"
   ]
  },
  {
   "cell_type": "code",
   "execution_count": 42,
   "metadata": {},
   "outputs": [],
   "source": [
    "# some function we wish to decorate\n",
    "def original_func():\n",
    "    print(\"I'm the original function!\")\n",
    "\n",
    "# a decorator\n",
    "def my_decorator(original_func):  # takes our original function as input\n",
    "    \n",
    "    def wrapper():  # wraps our original function with some extra functionality\n",
    "        print(f\"A decoration before {original_func.__name__}.\")\n",
    "        result = original_func()\n",
    "        print(f\"A decoration after {original_func.__name__}.\")\n",
    "        return result\n",
    "    \n",
    "    return wrapper  # returns the unexecuted wrapper function which we can can excute later"
   ]
  },
  {
   "cell_type": "code",
   "execution_count": 43,
   "metadata": {},
   "outputs": [
    {
     "data": {
      "text/plain": [
       "<function __main__.my_decorator.<locals>.wrapper()>"
      ]
     },
     "execution_count": 43,
     "metadata": {},
     "output_type": "execute_result"
    }
   ],
   "source": [
    "my_decorator(original_func)"
   ]
  },
  {
   "cell_type": "code",
   "execution_count": 44,
   "metadata": {},
   "outputs": [
    {
     "name": "stdout",
     "output_type": "stream",
     "text": [
      "A decoration before original_func.\n",
      "I'm the original function!\n",
      "A decoration after original_func.\n"
     ]
    }
   ],
   "source": [
    "my_decorator(original_func)()"
   ]
  },
  {
   "cell_type": "code",
   "execution_count": 45,
   "metadata": {},
   "outputs": [
    {
     "name": "stdout",
     "output_type": "stream",
     "text": [
      "A decoration before another_func.\n",
      "I'm a different function!\n",
      "A decoration after another_func.\n"
     ]
    }
   ],
   "source": [
    "def another_func():\n",
    "    print(\"I'm a different function!\")\n",
    "\n",
    "my_decorator(another_func)()"
   ]
  },
  {
   "cell_type": "code",
   "execution_count": 46,
   "metadata": {},
   "outputs": [
    {
     "name": "stdout",
     "output_type": "stream",
     "text": [
      "A decoration before one_more_func.\n",
      "One more function...\n",
      "A decoration after one_more_func.\n"
     ]
    }
   ],
   "source": [
    "@my_decorator\n",
    "def one_more_func():\n",
    "    print(\"One more function...\")\n",
    "    \n",
    "one_more_func()"
   ]
  },
  {
   "cell_type": "code",
   "execution_count": 47,
   "metadata": {},
   "outputs": [],
   "source": [
    "import time  # import the time module, we'll learn about imports next chapter\n",
    "\n",
    "def timer(my_function):  # the decorator\n",
    "    \n",
    "    def wrapper():  # the added functionality\n",
    "        t1 = time.time()\n",
    "        result = my_function()  # the original function\n",
    "        t2 = time.time()\n",
    "        print(f\"{my_function.__name__} ran in {t2 - t1:.3f} sec\")  # print the execution time\n",
    "        return result\n",
    "    return wrapper"
   ]
  },
  {
   "cell_type": "code",
   "execution_count": 48,
   "metadata": {},
   "outputs": [
    {
     "name": "stdout",
     "output_type": "stream",
     "text": [
      "0\n"
     ]
    },
    {
     "name": "stdout",
     "output_type": "stream",
     "text": [
      "1000000\n"
     ]
    },
    {
     "name": "stdout",
     "output_type": "stream",
     "text": [
      "2000000\n",
      "3000000\n",
      "4000000\n"
     ]
    },
    {
     "name": "stdout",
     "output_type": "stream",
     "text": [
      "5000000\n",
      "6000000\n"
     ]
    },
    {
     "name": "stdout",
     "output_type": "stream",
     "text": [
      "7000000\n",
      "8000000\n"
     ]
    },
    {
     "name": "stdout",
     "output_type": "stream",
     "text": [
      "9000000\n",
      "silly_function ran in 0.654 sec\n"
     ]
    }
   ],
   "source": [
    "@timer\n",
    "def silly_function():\n",
    "    for i in range(10_000_000):\n",
    "        if (i % 1_000_000) == 0:\n",
    "            print(i) \n",
    "        else:\n",
    "            pass\n",
    "        \n",
    "silly_function()"
   ]
  },
  {
   "cell_type": "code",
   "execution_count": 49,
   "metadata": {},
   "outputs": [],
   "source": [
    "class mds_member:\n",
    "    \n",
    "    role = \"MDS member\"\n",
    "    campus = \"UBC\"\n",
    "    \n",
    "    def __init__(self, first, last):\n",
    "        self.first = first\n",
    "        self.last = last\n",
    "        self.email = first.lower() + \".\" + last.lower() + \"@mds.com\"\n",
    "        \n",
    "    def full_name(self):\n",
    "        return f\"{self.first} {self.last}\"\n",
    "    \n",
    "    @classmethod\n",
    "    def from_csv(cls, csv):\n",
    "        first, last = csv_name.split(',')\n",
    "        return cls(first, last)\n",
    "    \n",
    "    @staticmethod\n",
    "    def is_quizweek(week):\n",
    "        return True if week in [3, 5] else False"
   ]
  },
  {
   "cell_type": "code",
   "execution_count": 50,
   "metadata": {},
   "outputs": [],
   "source": [
    "class mds_student(mds_member):\n",
    "    pass"
   ]
  },
  {
   "cell_type": "code",
   "execution_count": 51,
   "metadata": {},
   "outputs": [
    {
     "name": "stdout",
     "output_type": "stream",
     "text": [
      "Craig Smith\n",
      "Megan Scott\n"
     ]
    }
   ],
   "source": [
    "student_1 = mds_student('Craig', 'Smith')\n",
    "student_2 = mds_student('Megan', 'Scott')\n",
    "print(student_1.full_name())\n",
    "print(student_2.full_name())"
   ]
  },
  {
   "cell_type": "code",
   "execution_count": 52,
   "metadata": {},
   "outputs": [
    {
     "name": "stdout",
     "output_type": "stream",
     "text": [
      "Help on class mds_student in module __main__:\n",
      "\n",
      "class mds_student(mds_member)\n",
      " |  mds_student(first, last)\n",
      " |  \n",
      " |  Method resolution order:\n",
      " |      mds_student\n",
      " |      mds_member\n",
      " |      builtins.object\n",
      " |  \n",
      " |  Methods inherited from mds_member:\n",
      " |  \n",
      " |  __init__(self, first, last)\n",
      " |      Initialize self.  See help(type(self)) for accurate signature.\n",
      " |  \n",
      " |  full_name(self)\n",
      " |  \n",
      " |  ----------------------------------------------------------------------\n",
      " |  Class methods inherited from mds_member:\n",
      " |  \n",
      " |  from_csv(csv) from builtins.type\n",
      " |  \n",
      " |  ----------------------------------------------------------------------\n",
      " |  Static methods inherited from mds_member:\n",
      " |  \n",
      " |  is_quizweek(week)\n",
      " |  \n",
      " |  ----------------------------------------------------------------------\n",
      " |  Data descriptors inherited from mds_member:\n",
      " |  \n",
      " |  __dict__\n",
      " |      dictionary for instance variables (if defined)\n",
      " |  \n",
      " |  __weakref__\n",
      " |      list of weak references to the object (if defined)\n",
      " |  \n",
      " |  ----------------------------------------------------------------------\n",
      " |  Data and other attributes inherited from mds_member:\n",
      " |  \n",
      " |  campus = 'UBC'\n",
      " |  \n",
      " |  role = 'MDS member'\n",
      "\n"
     ]
    }
   ],
   "source": [
    "help(mds_student)"
   ]
  },
  {
   "cell_type": "code",
   "execution_count": 53,
   "metadata": {},
   "outputs": [],
   "source": [
    "class mds_student(mds_member):\n",
    "    role = \"MDS student\""
   ]
  },
  {
   "cell_type": "code",
   "execution_count": 54,
   "metadata": {},
   "outputs": [
    {
     "name": "stdout",
     "output_type": "stream",
     "text": [
      "MDS student\n",
      "UBC\n",
      "John Smith\n"
     ]
    }
   ],
   "source": [
    "student_1 = mds_student('John', 'Smith')\n",
    "print(student_1.role)\n",
    "print(student_1.campus)\n",
    "print(student_1.full_name())"
   ]
  },
  {
   "cell_type": "code",
   "execution_count": 55,
   "metadata": {},
   "outputs": [
    {
     "name": "stdout",
     "output_type": "stream",
     "text": [
      "john.smith@mds.com\n",
      "B+\n"
     ]
    }
   ],
   "source": [
    "class mds_student(mds_member):\n",
    "    role = \"MDS student\"\n",
    "    \n",
    "    def __init__(self, first, last, grade):\n",
    "        self.first = first\n",
    "        self.last = last\n",
    "        self.email = first.lower() + \".\" + last.lower() + \"@mds.com\"\n",
    "        self.grade = grade\n",
    "        \n",
    "student_1 = mds_student('John', 'Smith', 'B+')\n",
    "print(student_1.email)\n",
    "print(student_1.grade)"
   ]
  },
  {
   "cell_type": "code",
   "execution_count": 56,
   "metadata": {},
   "outputs": [
    {
     "name": "stdout",
     "output_type": "stream",
     "text": [
      "john.smith@mds.com\n",
      "B+\n"
     ]
    }
   ],
   "source": [
    "class mds_student(mds_member):\n",
    "    role = \"MDS student\"\n",
    "    \n",
    "    def __init__(self, first, last, grade):\n",
    "        super().__init__(first, last)\n",
    "        self.grade = grade\n",
    "        \n",
    "student_1 = mds_student('John', 'Smith', 'B+')\n",
    "print(student_1.email)\n",
    "print(student_1.grade)"
   ]
  },
  {
   "cell_type": "code",
   "execution_count": 57,
   "metadata": {},
   "outputs": [],
   "source": [
    "class mds_instructor(mds_member):\n",
    "    role = \"MDS instructor\"\n",
    "    \n",
    "    def __init__(self, first, last, courses=None):\n",
    "        super().__init__(first, last)\n",
    "        self.courses = ([] if courses is None else courses)\n",
    "        \n",
    "    def add_course(self, course):\n",
    "        self.courses.append(course)\n",
    "        \n",
    "    def remove_course(self, course):\n",
    "        self.courses.remove(course)"
   ]
  },
  {
   "cell_type": "code",
   "execution_count": 58,
   "metadata": {},
   "outputs": [
    {
     "name": "stdout",
     "output_type": "stream",
     "text": [
      "Tom Beuzen\n",
      "['511', '561', '513']\n"
     ]
    }
   ],
   "source": [
    "instructor_1 = mds_instructor('Tom', 'Beuzen', ['511', '561', '513'])\n",
    "print(instructor_1.full_name())\n",
    "print(instructor_1.courses)"
   ]
  },
  {
   "cell_type": "code",
   "execution_count": 59,
   "metadata": {},
   "outputs": [
    {
     "data": {
      "text/plain": [
       "['511', '561', '591']"
      ]
     },
     "execution_count": 59,
     "metadata": {},
     "output_type": "execute_result"
    }
   ],
   "source": [
    "instructor_1.add_course('591')\n",
    "instructor_1.remove_course('513')\n",
    "instructor_1.courses"
   ]
  },
  {
   "cell_type": "code",
   "execution_count": 60,
   "metadata": {},
   "outputs": [],
   "source": [
    "class mds_member:\n",
    "    \n",
    "    def __init__(self, first, last):\n",
    "        self.first = first\n",
    "        self.last = last\n",
    "        self.email = first.lower() + \".\" + last.lower() + \"@mds.com\"\n",
    "        \n",
    "    def full_name(self):\n",
    "        return f\"{self.first} {self.last}\""
   ]
  },
  {
   "cell_type": "code",
   "execution_count": 61,
   "metadata": {},
   "outputs": [
    {
     "name": "stdout",
     "output_type": "stream",
     "text": [
      "Tom\n",
      "Beuzen\n",
      "tom.beuzen@mds.com\n",
      "Tom Beuzen\n"
     ]
    }
   ],
   "source": [
    "mds_1 = mds_member('Tom', 'Beuzen')\n",
    "print(mds_1.first)\n",
    "print(mds_1.last)\n",
    "print(mds_1.email)\n",
    "print(mds_1.full_name())"
   ]
  },
  {
   "cell_type": "code",
   "execution_count": 62,
   "metadata": {},
   "outputs": [
    {
     "name": "stdout",
     "output_type": "stream",
     "text": [
      "Tomas\n",
      "Beuzen\n",
      "tom.beuzen@mds.com\n",
      "Tomas Beuzen\n"
     ]
    }
   ],
   "source": [
    "mds_1.first = 'Tomas'\n",
    "print(mds_1.first)\n",
    "print(mds_1.last)\n",
    "print(mds_1.email)\n",
    "print(mds_1.full_name())"
   ]
  },
  {
   "cell_type": "code",
   "execution_count": 63,
   "metadata": {},
   "outputs": [],
   "source": [
    "class mds_member:\n",
    "    \n",
    "    def __init__(self, first, last):\n",
    "        self.first = first\n",
    "        self.last = last\n",
    "        \n",
    "    def full_name(self):\n",
    "        return f\"{self.first} {self.last}\"\n",
    "    \n",
    "    @property\n",
    "    def email(self):\n",
    "        return self.first.lower() + \".\" + self.last.lower() + \"@mds.com\""
   ]
  },
  {
   "cell_type": "code",
   "execution_count": 64,
   "metadata": {},
   "outputs": [
    {
     "name": "stdout",
     "output_type": "stream",
     "text": [
      "Tomas\n",
      "Beuzen\n",
      "tomas.beuzen@mds.com\n",
      "Tomas Beuzen\n"
     ]
    }
   ],
   "source": [
    "mds_1 = mds_member('Tom', 'Beuzen')\n",
    "mds_1.first = 'Tomas'\n",
    "print(mds_1.first)\n",
    "print(mds_1.last)\n",
    "print(mds_1.email)\n",
    "print(mds_1.full_name())"
   ]
  },
  {
   "cell_type": "code",
   "execution_count": 65,
   "metadata": {},
   "outputs": [],
   "source": [
    "class mds_member:\n",
    "    \n",
    "    def __init__(self, first, last):\n",
    "        self.first = first\n",
    "        self.last = last\n",
    "    \n",
    "    @property\n",
    "    def full_name(self):\n",
    "        return f\"{self.first} {self.last}\"\n",
    "    \n",
    "    @property\n",
    "    def email(self):\n",
    "        return self.first.lower() + \".\" + self.last.lower() + \"@mds.com\""
   ]
  },
  {
   "cell_type": "code",
   "execution_count": 66,
   "metadata": {},
   "outputs": [
    {
     "data": {
      "text/plain": [
       "'Tom Beuzen'"
      ]
     },
     "execution_count": 66,
     "metadata": {},
     "output_type": "execute_result"
    }
   ],
   "source": [
    "mds_1 = mds_member('Tom', 'Beuzen')\n",
    "mds_1.full_name"
   ]
  },
  {
   "cell_type": "code",
   "execution_count": 67,
   "metadata": {
    "tags": [
     "raises-exception"
    ]
   },
   "outputs": [
    {
     "ename": "AttributeError",
     "evalue": "can't set attribute 'full_name'",
     "output_type": "error",
     "traceback": [
      "\u001b[0;31m---------------------------------------------------------------------------\u001b[0m",
      "\u001b[0;31mAttributeError\u001b[0m                            Traceback (most recent call last)",
      "Cell \u001b[0;32mIn[67], line 1\u001b[0m\n\u001b[0;32m----> 1\u001b[0m \u001b[43mmds_1\u001b[49m\u001b[38;5;241;43m.\u001b[39;49m\u001b[43mfull_name\u001b[49m \u001b[38;5;241m=\u001b[39m \u001b[38;5;124m'\u001b[39m\u001b[38;5;124mThomas Beuzen\u001b[39m\u001b[38;5;124m'\u001b[39m\n",
      "\u001b[0;31mAttributeError\u001b[0m: can't set attribute 'full_name'"
     ]
    }
   ],
   "source": [
    "mds_1.full_name = 'Thomas Beuzen'"
   ]
  },
  {
   "cell_type": "code",
   "execution_count": 68,
   "metadata": {},
   "outputs": [],
   "source": [
    "class mds_member:\n",
    "    \n",
    "    def __init__(self, first, last):\n",
    "        self.first = first\n",
    "        self.last = last\n",
    "    \n",
    "    @property\n",
    "    def full_name(self):\n",
    "        return f\"{self.first} {self.last}\"\n",
    "    \n",
    "    @full_name.setter\n",
    "    def full_name(self, name):\n",
    "        first, last = name.split(' ')\n",
    "        self.first = first\n",
    "        self.last = last\n",
    "    \n",
    "    @property\n",
    "    def email(self):\n",
    "        return self.first.lower() + \".\" + self.last.lower() + \"@mds.com\""
   ]
  },
  {
   "cell_type": "code",
   "execution_count": 69,
   "metadata": {},
   "outputs": [
    {
     "name": "stdout",
     "output_type": "stream",
     "text": [
      "Thomas\n",
      "Beuzen\n",
      "thomas.beuzen@mds.com\n",
      "Thomas Beuzen\n"
     ]
    }
   ],
   "source": [
    "mds_1 = mds_member('Tom', 'Beuzen')\n",
    "mds_1.full_name = 'Thomas Beuzen'\n",
    "print(mds_1.first)\n",
    "print(mds_1.last)\n",
    "print(mds_1.email)\n",
    "print(mds_1.full_name)"
   ]
  },
  {
   "cell_type": "code",
   "execution_count": 70,
   "metadata": {},
   "outputs": [],
   "source": [
    "class mds_member:\n",
    "    \n",
    "    def __init__(self, first, last):\n",
    "        self.first = first\n",
    "        self.last = last\n",
    "    \n",
    "    @property\n",
    "    def full_name(self):\n",
    "        return f\"{self.first} {self.last}\"\n",
    "    \n",
    "    @full_name.setter\n",
    "    def full_name(self, name):\n",
    "        first, last = name.split(' ')\n",
    "        self.first = first\n",
    "        self.last = last\n",
    "        \n",
    "    @full_name.deleter\n",
    "    def full_name(self):\n",
    "        print('Name deleted!')\n",
    "        self.first = None\n",
    "        self.last = None\n",
    "    \n",
    "    @property\n",
    "    def email(self):\n",
    "        return self.first.lower() + \".\" + self.last.lower() + \"@mds.com\""
   ]
  },
  {
   "cell_type": "code",
   "execution_count": 71,
   "metadata": {},
   "outputs": [
    {
     "name": "stdout",
     "output_type": "stream",
     "text": [
      "Name deleted!\n",
      "None\n",
      "None\n"
     ]
    }
   ],
   "source": [
    "mds_1 = mds_member('Tom', 'Beuzen')\n",
    "delattr(mds_1, \"full_name\")\n",
    "print(mds_1.first)\n",
    "print(mds_1.last)"
   ]
  }
 ],
 "metadata": {
  "anaconda-cloud": {},
  "kernelspec": {
   "display_name": "Python 3",
   "language": "python",
   "name": "python3"
  },
  "language_info": {
   "codemirror_mode": {
    "name": "ipython",
    "version": 3
   },
   "file_extension": ".py",
   "mimetype": "text/x-python",
   "name": "python",
   "nbconvert_exporter": "python",
   "pygments_lexer": "ipython3",
   "version": "3.10.13"
  },
  "toc": {
   "base_numbering": 1,
   "nav_menu": {},
   "number_sections": false,
   "sideBar": true,
   "skip_h1_title": true,
   "title_cell": "Table of Contents",
   "title_sidebar": "Contents",
   "toc_cell": true,
   "toc_position": {},
   "toc_section_display": true,
   "toc_window_display": true
  }
 },
 "nbformat": 4,
 "nbformat_minor": 4
}