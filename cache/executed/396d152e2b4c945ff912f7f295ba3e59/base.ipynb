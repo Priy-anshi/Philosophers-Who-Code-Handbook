{
 "cells": [
  {
   "cell_type": "code",
   "execution_count": 1,
   "metadata": {},
   "outputs": [],
   "source": [
    "very_long_variable_name = {'field': 1,\n",
    "                        'is_debug': True}\n",
    "if very_long_variable_name is not None and very_long_variable_name[\"field\"] > 0 or very_long_variable_name['is_debug']:\n",
    " z = 'hello '+'world'\n",
    "else:\n",
    " f = rf'hello {world}'\n",
    "if (True): y = 'hello ''world'#FIXME: https://github.com/python/black/issues/26\n",
    "class Foo  (     object  ):\n",
    "  def f    (self   ):\n",
    "    return       37*-2\n",
    "  def g(self, x,y=42):\n",
    "      return y\n",
    "regular_formatting = [\n",
    "    0,  1,  2,\n",
    "    3,  4,  5\n",
    "]\n",
    "def CAPITALIZE(mystring):\n",
    "    return mystring.upper()"
   ]
  },
  {
   "cell_type": "code",
   "execution_count": 2,
   "metadata": {},
   "outputs": [],
   "source": [
    "# Your answer here."
   ]
  },
  {
   "cell_type": "code",
   "execution_count": 3,
   "metadata": {},
   "outputs": [],
   "source": [
    "very_long_variable_name = {'field': 1,\n",
    "                        'is_debug': True}\n",
    "if very_long_variable_name is not None and very_long_variable_name[\"field\"] > 0 or very_long_variable_name['is_debug']:\n",
    " z = 'hello '+'world'\n",
    "else:\n",
    " f = rf'hello {world}'\n",
    "if (True): y = 'hello ''world'#FIXME: https://github.com/python/black/issues/26\n",
    "class Foo  (     object  ):\n",
    "  def f    (self   ):\n",
    "    return       37*-2\n",
    "  def g(self, x,y=42):\n",
    "      return y\n",
    "regular_formatting = [\n",
    "    0,  1,  2,\n",
    "    3,  4,  5\n",
    "]\n",
    "def CAPITALIZE(mystring):\n",
    "    return mystring.upper()"
   ]
  },
  {
   "cell_type": "code",
   "execution_count": 4,
   "metadata": {},
   "outputs": [],
   "source": [
    "# Your answer here."
   ]
  },
  {
   "cell_type": "code",
   "execution_count": 5,
   "metadata": {},
   "outputs": [],
   "source": [
    "# Your answer here."
   ]
  },
  {
   "cell_type": "code",
   "execution_count": 6,
   "metadata": {},
   "outputs": [],
   "source": [
    "probabilities = [1, 0.75, 0.5, 0.75, 0.5, 1, 0.5, 0.75]\n",
    "\n",
    "# Your answer here."
   ]
  },
  {
   "cell_type": "code",
   "execution_count": 7,
   "metadata": {},
   "outputs": [],
   "source": [
    "def simulate_party(probabilities, n):\n",
    "    \"Simulate attendance at a party from a list of attendance probabilities.\"\n",
    "    pass  # Remove this line and add your answer here."
   ]
  },
  {
   "cell_type": "code",
   "execution_count": 8,
   "metadata": {
    "tags": [
     "raises-exception"
    ]
   },
   "outputs": [],
   "source": [
    "# Use this code to plot your function on a bigger guest list!\n",
    "import numpy as np\n",
    "import matplotlib.pyplot as plt\n",
    "plt.style.use('ggplot')  # These lines are to do with plot formatting. We'll talk about them in a later chapter.\n",
    "plt.rcParams.update({'font.size': 16, 'axes.labelweight': 'bold', 'figure.figsize': (8, 6)})\n",
    "\n",
    "number_of_guests=100\n",
    "probabilities = np.random.choice([0.2, 0.4, 0.6, 0.8, 1],\n",
    "                                 size=number_of_guests,\n",
    "                                 p=[0.1, 0.2, 0.2, 0.3, 0.2])\n",
    "\n",
    "# attendance = simulate_party(probabilities, n=1000)\n",
    "# plt.hist(attendance, bins=20)\n",
    "# plt.xlabel(\"Avg. number of attendees\")\n",
    "# plt.ylabel(\"Number of simulations\");"
   ]
  },
  {
   "cell_type": "code",
   "execution_count": 9,
   "metadata": {},
   "outputs": [],
   "source": [
    "very_long_variable_name = {'field': 1,\n",
    "                        'is_debug': True}\n",
    "if very_long_variable_name is not None and very_long_variable_name[\"field\"] > 0 or very_long_variable_name['is_debug']:\n",
    " z = 'hello '+'world'\n",
    "else:\n",
    " f = rf'hello {world}'\n",
    "if (True): y = 'hello ''world'#FIXME: https://github.com/python/black/issues/26\n",
    "class Foo  (     object  ):\n",
    "  def f    (self   ):\n",
    "    return       37*-2\n",
    "  def g(self, x,y=42):\n",
    "      return y\n",
    "regular_formatting = [\n",
    "    0,  1,  2,\n",
    "    3,  4,  5\n",
    "]\n",
    "def CAPITALIZE(mystring):\n",
    "    return mystring.upper()"
   ]
  },
  {
   "cell_type": "code",
   "execution_count": 10,
   "metadata": {},
   "outputs": [
    {
     "name": "stdout",
     "output_type": "stream",
     "text": [
      "\u001b[1mbad_style.py\u001b[m\u001b[36m:\u001b[m2\u001b[36m:\u001b[m25\u001b[36m:\u001b[m \u001b[1m\u001b[31mE128\u001b[m continuation line under-indented for visual indent\r\n",
      "\u001b[1mbad_style.py\u001b[m\u001b[36m:\u001b[m3\u001b[36m:\u001b[m80\u001b[36m:\u001b[m \u001b[1m\u001b[31mE501\u001b[m line too long (119 > 79 characters)\r\n",
      "\u001b[1mbad_style.py\u001b[m\u001b[36m:\u001b[m4\u001b[36m:\u001b[m2\u001b[36m:\u001b[m \u001b[1m\u001b[31mE111\u001b[m indentation is not a multiple of 4\r\n",
      "\u001b[1mbad_style.py\u001b[m\u001b[36m:\u001b[m6\u001b[36m:\u001b[m2\u001b[36m:\u001b[m \u001b[1m\u001b[31mE111\u001b[m indentation is not a multiple of 4\r\n",
      "\u001b[1mbad_style.py\u001b[m\u001b[36m:\u001b[m6\u001b[36m:\u001b[m16\u001b[36m:\u001b[m \u001b[1m\u001b[31mF821\u001b[m undefined name 'world'\r\n",
      "\u001b[1mbad_style.py\u001b[m\u001b[36m:\u001b[m7\u001b[36m:\u001b[m10\u001b[36m:\u001b[m \u001b[1m\u001b[31mE701\u001b[m multiple statements on one line (colon)\r\n",
      "\u001b[1mbad_style.py\u001b[m\u001b[36m:\u001b[m7\u001b[36m:\u001b[m31\u001b[36m:\u001b[m \u001b[1m\u001b[31mE261\u001b[m at least two spaces before inline comment\r\n",
      "\u001b[1mbad_style.py\u001b[m\u001b[36m:\u001b[m7\u001b[36m:\u001b[m31\u001b[36m:\u001b[m \u001b[1m\u001b[31mE262\u001b[m inline comment should start with '# '\r\n",
      "\u001b[1mbad_style.py\u001b[m\u001b[36m:\u001b[m8\u001b[36m:\u001b[m1\u001b[36m:\u001b[m \u001b[1m\u001b[31mE302\u001b[m expected 2 blank lines, found 0\r\n",
      "\u001b[1mbad_style.py\u001b[m\u001b[36m:\u001b[m8\u001b[36m:\u001b[m13\u001b[36m:\u001b[m \u001b[1m\u001b[31mE201\u001b[m whitespace after '('\r\n",
      "\u001b[1mbad_style.py\u001b[m\u001b[36m:\u001b[m8\u001b[36m:\u001b[m25\u001b[36m:\u001b[m \u001b[1m\u001b[31mE202\u001b[m whitespace before ')'\r\n",
      "\u001b[1mbad_style.py\u001b[m\u001b[36m:\u001b[m9\u001b[36m:\u001b[m3\u001b[36m:\u001b[m \u001b[1m\u001b[31mE111\u001b[m indentation is not a multiple of 4\r\n",
      "\u001b[1mbad_style.py\u001b[m\u001b[36m:\u001b[m9\u001b[36m:\u001b[m8\u001b[36m:\u001b[m \u001b[1m\u001b[31mE211\u001b[m whitespace before '('\r\n",
      "\u001b[1mbad_style.py\u001b[m\u001b[36m:\u001b[m9\u001b[36m:\u001b[m19\u001b[36m:\u001b[m \u001b[1m\u001b[31mE202\u001b[m whitespace before ')'\r\n",
      "\u001b[1mbad_style.py\u001b[m\u001b[36m:\u001b[m10\u001b[36m:\u001b[m11\u001b[36m:\u001b[m \u001b[1m\u001b[31mE271\u001b[m multiple spaces after keyword\r\n",
      "\u001b[1mbad_style.py\u001b[m\u001b[36m:\u001b[m11\u001b[36m:\u001b[m3\u001b[36m:\u001b[m \u001b[1m\u001b[31mE301\u001b[m expected 1 blank line, found 0\r\n",
      "\u001b[1mbad_style.py\u001b[m\u001b[36m:\u001b[m11\u001b[36m:\u001b[m3\u001b[36m:\u001b[m \u001b[1m\u001b[31mE111\u001b[m indentation is not a multiple of 4\r\n",
      "\u001b[1mbad_style.py\u001b[m\u001b[36m:\u001b[m11\u001b[36m:\u001b[m16\u001b[36m:\u001b[m \u001b[1m\u001b[31mE231\u001b[m missing whitespace after ','\r\n",
      "\u001b[1mbad_style.py\u001b[m\u001b[36m:\u001b[m12\u001b[36m:\u001b[m7\u001b[36m:\u001b[m \u001b[1m\u001b[31mE111\u001b[m indentation is not a multiple of 4\r\n",
      "\u001b[1mbad_style.py\u001b[m\u001b[36m:\u001b[m13\u001b[36m:\u001b[m1\u001b[36m:\u001b[m \u001b[1m\u001b[31mE305\u001b[m expected 2 blank lines after class or function definition, found 0\r\n",
      "\u001b[1mbad_style.py\u001b[m\u001b[36m:\u001b[m17\u001b[36m:\u001b[m1\u001b[36m:\u001b[m \u001b[1m\u001b[31mE302\u001b[m expected 2 blank lines, found 0\r\n",
      "\u001b[1mbad_style.py\u001b[m\u001b[36m:\u001b[m18\u001b[36m:\u001b[m28\u001b[36m:\u001b[m \u001b[1m\u001b[31mW292\u001b[m no newline at end of file\r\n"
     ]
    }
   ],
   "source": [
    "!flake8 bad_style.py"
   ]
  },
  {
   "cell_type": "code",
   "execution_count": 11,
   "metadata": {},
   "outputs": [],
   "source": [
    "very_long_variable_name = {'field': 1,\n",
    "                        'is_debug': True}\n",
    "if very_long_variable_name is not None and very_long_variable_name[\"field\"] > 0 or very_long_variable_name['is_debug']:\n",
    " z = 'hello '+'world'\n",
    "else:\n",
    " f = rf'hello {world}'\n",
    "if (True): y = 'hello ''world'#FIXME: https://github.com/python/black/issues/26\n",
    "class Foo  (     object  ):\n",
    "  def f    (self   ):\n",
    "    return       37*-2\n",
    "  def g(self, x,y=42):\n",
    "      return y\n",
    "regular_formatting = [\n",
    "    0,  1,  2,\n",
    "    3,  4,  5\n",
    "]\n",
    "def CAPITALIZE(mystring):\n",
    "    return mystring.upper()"
   ]
  },
  {
   "cell_type": "code",
   "execution_count": 12,
   "metadata": {},
   "outputs": [],
   "source": [
    "# I used the Jupyter Lab code formatter extension for this.\n",
    "\n",
    "very_long_variable_name = {\"field\": 1, \"is_debug\": True}\n",
    "if (\n",
    "    very_long_variable_name is not None\n",
    "    and very_long_variable_name[\"field\"] > 0\n",
    "    or very_long_variable_name[\"is_debug\"]\n",
    "):\n",
    "    z = \"hello \" + \"world\"\n",
    "else:\n",
    "    f = rf\"hello {world}\"\n",
    "if True:\n",
    "    y = \"hello \" \"world\"  # FIXME: https://github.com/python/black/issues/26\n",
    "\n",
    "\n",
    "class Foo(object):\n",
    "    def f(self):\n",
    "        return 37 * -2\n",
    "\n",
    "    def g(self, x, y=42):\n",
    "        return y\n",
    "\n",
    "\n",
    "regular_formatting = [0, 1, 2, 3, 4, 5]\n",
    "\n",
    "\n",
    "def CAPITALIZE(mystring):\n",
    "    return mystring.upper()"
   ]
  },
  {
   "cell_type": "code",
   "execution_count": 13,
   "metadata": {},
   "outputs": [
    {
     "name": "stdout",
     "output_type": "stream",
     "text": [
      "The circle has area = 314.16\n",
      "The circle has circumference = 62.83\n"
     ]
    }
   ],
   "source": [
    "from circle import Circle\n",
    "\n",
    "c = Circle(10)\n",
    "print(f\"The circle has area = {c.area():.2f}\")\n",
    "print(f\"The circle has circumference = {c.circumference():.2f}\")"
   ]
  },
  {
   "cell_type": "code",
   "execution_count": 14,
   "metadata": {},
   "outputs": [
    {
     "name": "stdout",
     "output_type": "stream",
     "text": [
      "7 guests attended the party in this simulation!\n"
     ]
    }
   ],
   "source": [
    "probabilities = [1, 0.75, 0.5, 0.75, 0.5, 1, 0.5, 0.75]\n",
    "\n",
    "import numpy as np\n",
    "\n",
    "attendance_simulation = [np.random.binomial(n=1, p=p) for p in probabilities]\n",
    "print(f\"{sum(attendance_simulation)} guests attended the party in this simulation!\")"
   ]
  },
  {
   "cell_type": "code",
   "execution_count": 15,
   "metadata": {},
   "outputs": [
    {
     "name": "stdout",
     "output_type": "stream",
     "text": [
      "Avg. number of guests across all simulations: 6\n"
     ]
    }
   ],
   "source": [
    "import math\n",
    "\n",
    "\n",
    "def simulate_party(probabilities, n):\n",
    "    \"Simulate attendance at a party from a list of attendance probabilities.\"\n",
    "\n",
    "    attendance = []\n",
    "    for i in range(n):\n",
    "        attendance.append(sum([np.random.binomial(n=1, p=p) for p in probabilities]))\n",
    "    return attendance\n",
    "\n",
    "\n",
    "simulations = simulate_party(probabilities, 100)\n",
    "\n",
    "print(\n",
    "    f\"Avg. number of guests across all simulations: {math.ceil(sum(simulations) / len(simulations))}\"\n",
    ")"
   ]
  },
  {
   "cell_type": "code",
   "execution_count": 16,
   "metadata": {},
   "outputs": [
    {
     "data": {
      "image/png": "[encoded data removed]",
      "text/plain": [
       "<Figure size 800x600 with 1 Axes>"
      ]
     },
     "metadata": {},
     "output_type": "display_data"
    }
   ],
   "source": [
    "# Use this code to plot your function on a bigger guest list!\n",
    "import numpy as np\n",
    "import matplotlib.pyplot as plt\n",
    "plt.style.use('ggplot')  # These lines are to do with plot formatting. We'll talk about them in a later chapter.\n",
    "plt.rcParams.update({'font.size': 16, 'axes.labelweight': 'bold', 'figure.figsize': (8, 6)})\n",
    "\n",
    "number_of_guests=100\n",
    "probabilities = np.random.choice([0.2, 0.4, 0.6, 0.8, 1],\n",
    "                                 size=number_of_guests,\n",
    "                                 p=[0.1, 0.2, 0.2, 0.3, 0.2])\n",
    "attendance = simulate_party(probabilities, n=1000)\n",
    "plt.hist(attendance, bins=20)\n",
    "plt.xlabel(\"Avg. number of attendees\")\n",
    "plt.ylabel(\"Number of simulations\");"
   ]
  }
 ],
 "metadata": {
  "kernelspec": {
   "display_name": "Python 3",
   "language": "python",
   "name": "python3"
  },
  "language_info": {
   "codemirror_mode": {
    "name": "ipython",
    "version": 3
   },
   "file_extension": ".py",
   "mimetype": "text/x-python",
   "name": "python",
   "nbconvert_exporter": "python",
   "pygments_lexer": "ipython3",
   "version": "3.10.13"
  }
 },
 "nbformat": 4,
 "nbformat_minor": 4
}