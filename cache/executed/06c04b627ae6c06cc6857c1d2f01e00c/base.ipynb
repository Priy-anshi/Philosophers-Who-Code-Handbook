{
 "cells": [
  {
   "cell_type": "code",
   "execution_count": 1,
   "metadata": {},
   "outputs": [],
   "source": [
    "import math"
   ]
  },
  {
   "cell_type": "code",
   "execution_count": 2,
   "metadata": {},
   "outputs": [],
   "source": [
    "def area(radius):\n",
    "    \"\"\"Calculate the area of a circle based on the given radius.\"\"\"\n",
    "    return math.pi * radius ** 2"
   ]
  },
  {
   "cell_type": "code",
   "execution_count": 3,
   "metadata": {},
   "outputs": [],
   "source": [
    "# Your answer here."
   ]
  },
  {
   "cell_type": "code",
   "execution_count": 4,
   "metadata": {
    "tags": [
     "raises-exception"
    ]
   },
   "outputs": [
    {
     "ename": "TypeError",
     "evalue": "unsupported operand type(s) for ** or pow(): 'str' and 'int'",
     "output_type": "error",
     "traceback": [
      "\u001b[0;31m---------------------------------------------------------------------------\u001b[0m",
      "\u001b[0;31mTypeError\u001b[0m                                 Traceback (most recent call last)",
      "Cell \u001b[0;32mIn[4], line 1\u001b[0m\n\u001b[0;32m----> 1\u001b[0m \u001b[43marea\u001b[49m\u001b[43m(\u001b[49m\u001b[38;5;124;43m'\u001b[39;49m\u001b[38;5;124;43m10\u001b[39;49m\u001b[38;5;124;43m'\u001b[39;49m\u001b[43m)\u001b[49m\n",
      "Cell \u001b[0;32mIn[2], line 3\u001b[0m, in \u001b[0;36marea\u001b[0;34m(radius)\u001b[0m\n\u001b[1;32m      1\u001b[0m \u001b[38;5;28;01mdef\u001b[39;00m \u001b[38;5;21marea\u001b[39m(radius):\n\u001b[1;32m      2\u001b[0m \u001b[38;5;250m    \u001b[39m\u001b[38;5;124;03m\"\"\"Calculate the area of a circle based on the given radius.\"\"\"\u001b[39;00m\n\u001b[0;32m----> 3\u001b[0m     \u001b[38;5;28;01mreturn\u001b[39;00m math\u001b[38;5;241m.\u001b[39mpi \u001b[38;5;241m*\u001b[39m \u001b[43mradius\u001b[49m\u001b[43m \u001b[49m\u001b[38;5;241;43m*\u001b[39;49m\u001b[38;5;241;43m*\u001b[39;49m\u001b[43m \u001b[49m\u001b[38;5;241;43m2\u001b[39;49m\n",
      "\u001b[0;31mTypeError\u001b[0m: unsupported operand type(s) for ** or pow(): 'str' and 'int'"
     ]
    }
   ],
   "source": [
    "area('10')"
   ]
  },
  {
   "cell_type": "code",
   "execution_count": 5,
   "metadata": {},
   "outputs": [],
   "source": [
    "def area(radius):\n",
    "    \"\"\"Calculate the area of a circle based on the given radius.\"\"\"\n",
    "    pass # Remove this line and add your answer here."
   ]
  },
  {
   "cell_type": "code",
   "execution_count": 6,
   "metadata": {},
   "outputs": [],
   "source": [
    "def area(radius):\n",
    "    \"\"\"Calculate the area of a circle based on the given radius.\"\"\"\n",
    "    pass # Remove this line and add your answer here."
   ]
  },
  {
   "cell_type": "code",
   "execution_count": 7,
   "metadata": {},
   "outputs": [],
   "source": [
    "class Circle:\n",
    "    \"\"\"A circle with a radius r.\"\"\"\n",
    "\n",
    "    pass # Remove this line and add your answer here."
   ]
  },
  {
   "cell_type": "code",
   "execution_count": 8,
   "metadata": {
    "tags": [
     "raises-exception"
    ]
   },
   "outputs": [
    {
     "ename": "TypeError",
     "evalue": "Circle() takes no arguments",
     "output_type": "error",
     "traceback": [
      "\u001b[0;31m---------------------------------------------------------------------------\u001b[0m",
      "\u001b[0;31mTypeError\u001b[0m                                 Traceback (most recent call last)",
      "Cell \u001b[0;32mIn[8], line 1\u001b[0m\n\u001b[0;32m----> 1\u001b[0m \u001b[38;5;28;01massert\u001b[39;00m \u001b[43mCircle\u001b[49m\u001b[43m(\u001b[49m\u001b[38;5;241;43m3\u001b[39;49m\u001b[43m)\u001b[49m\u001b[38;5;241m.\u001b[39mradius \u001b[38;5;241m==\u001b[39m \u001b[38;5;241m3\u001b[39m, \u001b[38;5;124m\"\u001b[39m\u001b[38;5;124mTest 1 failed.\u001b[39m\u001b[38;5;124m\"\u001b[39m\n\u001b[1;32m      2\u001b[0m \u001b[38;5;28;01massert\u001b[39;00m math\u001b[38;5;241m.\u001b[39misclose(Circle(\u001b[38;5;241m3\u001b[39m)\u001b[38;5;241m.\u001b[39marea(), \u001b[38;5;241m28.3\u001b[39m, abs_tol\u001b[38;5;241m=\u001b[39m\u001b[38;5;241m0.1\u001b[39m), \u001b[38;5;124m\"\u001b[39m\u001b[38;5;124mTest 2 failed.\u001b[39m\u001b[38;5;124m\"\u001b[39m\n\u001b[1;32m      3\u001b[0m \u001b[38;5;28;01massert\u001b[39;00m math\u001b[38;5;241m.\u001b[39misclose(Circle(\u001b[38;5;241m3\u001b[39m)\u001b[38;5;241m.\u001b[39mcircumference(), \u001b[38;5;241m18.8\u001b[39m, abs_tol\u001b[38;5;241m=\u001b[39m\u001b[38;5;241m0.1\u001b[39m), \u001b[38;5;124m\"\u001b[39m\u001b[38;5;124mTest 3 failed.\u001b[39m\u001b[38;5;124m\"\u001b[39m\n",
      "\u001b[0;31mTypeError\u001b[0m: Circle() takes no arguments"
     ]
    }
   ],
   "source": [
    "assert Circle(3).radius == 3, \"Test 1 failed.\"\n",
    "assert math.isclose(Circle(3).area(), 28.3, abs_tol=0.1), \"Test 2 failed.\"\n",
    "assert math.isclose(Circle(3).circumference(), 18.8, abs_tol=0.1), \"Test 3 failed.\"\n",
    "assert Circle(3).__str__() == \"A Circle with radius 3\", \"Test 4 failed.\""
   ]
  },
  {
   "cell_type": "code",
   "execution_count": 9,
   "metadata": {},
   "outputs": [],
   "source": [
    "# Your answer here."
   ]
  },
  {
   "cell_type": "code",
   "execution_count": 10,
   "metadata": {
    "tags": [
     "raises-exception"
    ]
   },
   "outputs": [
    {
     "ename": "NameError",
     "evalue": "name 'Sphere' is not defined",
     "output_type": "error",
     "traceback": [
      "\u001b[0;31m---------------------------------------------------------------------------\u001b[0m",
      "\u001b[0;31mNameError\u001b[0m                                 Traceback (most recent call last)",
      "Cell \u001b[0;32mIn[10], line 1\u001b[0m\n\u001b[0;32m----> 1\u001b[0m \u001b[38;5;28;01massert\u001b[39;00m \u001b[43mSphere\u001b[49m(\u001b[38;5;241m3\u001b[39m)\u001b[38;5;241m.\u001b[39mradius \u001b[38;5;241m==\u001b[39m \u001b[38;5;241m3\u001b[39m, \u001b[38;5;124m\"\u001b[39m\u001b[38;5;124mTest 1 failed.\u001b[39m\u001b[38;5;124m\"\u001b[39m\n\u001b[1;32m      2\u001b[0m \u001b[38;5;28;01massert\u001b[39;00m math\u001b[38;5;241m.\u001b[39misclose(Sphere(\u001b[38;5;241m3\u001b[39m)\u001b[38;5;241m.\u001b[39marea(), \u001b[38;5;241m28.3\u001b[39m, abs_tol\u001b[38;5;241m=\u001b[39m\u001b[38;5;241m0.1\u001b[39m), \u001b[38;5;124m\"\u001b[39m\u001b[38;5;124mTest 2 failed.\u001b[39m\u001b[38;5;124m\"\u001b[39m\n\u001b[1;32m      3\u001b[0m \u001b[38;5;28;01massert\u001b[39;00m math\u001b[38;5;241m.\u001b[39misclose(Sphere(\u001b[38;5;241m3\u001b[39m)\u001b[38;5;241m.\u001b[39mcircumference(), \u001b[38;5;241m18.8\u001b[39m, abs_tol\u001b[38;5;241m=\u001b[39m\u001b[38;5;241m0.1\u001b[39m), \u001b[38;5;124m\"\u001b[39m\u001b[38;5;124mTest 3 failed.\u001b[39m\u001b[38;5;124m\"\u001b[39m\n",
      "\u001b[0;31mNameError\u001b[0m: name 'Sphere' is not defined"
     ]
    }
   ],
   "source": [
    "assert Sphere(3).radius == 3, \"Test 1 failed.\"\n",
    "assert math.isclose(Sphere(3).area(), 28.3, abs_tol=0.1), \"Test 2 failed.\"\n",
    "assert math.isclose(Sphere(3).circumference(), 18.8, abs_tol=0.1), \"Test 3 failed.\"\n",
    "assert math.isclose(Sphere(3).volume(), 113.1, abs_tol=0.1), \"Test 3 failed.\"\n",
    "assert Sphere(1).__str__() == \"A Sphere with volume 4.19\", \"Test 4 failed.\""
   ]
  },
  {
   "cell_type": "code",
   "execution_count": 11,
   "metadata": {},
   "outputs": [],
   "source": [
    "# Your answer here."
   ]
  },
  {
   "cell_type": "code",
   "execution_count": 12,
   "metadata": {
    "tags": [
     "raises-exception"
    ]
   },
   "outputs": [
    {
     "ename": "NameError",
     "evalue": "name 'Sphere' is not defined",
     "output_type": "error",
     "traceback": [
      "\u001b[0;31m---------------------------------------------------------------------------\u001b[0m",
      "\u001b[0;31mNameError\u001b[0m                                 Traceback (most recent call last)",
      "Cell \u001b[0;32mIn[12], line 1\u001b[0m\n\u001b[0;32m----> 1\u001b[0m \u001b[38;5;28;01massert\u001b[39;00m \u001b[43mSphere\u001b[49m\u001b[38;5;241m.\u001b[39mfrom_circ(\u001b[38;5;241m0\u001b[39m)\u001b[38;5;241m.\u001b[39mradius \u001b[38;5;241m==\u001b[39m \u001b[38;5;241m0\u001b[39m, \u001b[38;5;124m\"\u001b[39m\u001b[38;5;124mTest 1 failed.\u001b[39m\u001b[38;5;124m\"\u001b[39m\n\u001b[1;32m      2\u001b[0m \u001b[38;5;28;01massert\u001b[39;00m Sphere\u001b[38;5;241m.\u001b[39mfrom_circ(\u001b[38;5;241m3\u001b[39m \u001b[38;5;241m*\u001b[39m math\u001b[38;5;241m.\u001b[39mpi)\u001b[38;5;241m.\u001b[39mradius \u001b[38;5;241m==\u001b[39m \u001b[38;5;241m1.5\u001b[39m, \u001b[38;5;124m\"\u001b[39m\u001b[38;5;124mTest 2 failed.\u001b[39m\u001b[38;5;124m\"\u001b[39m \n\u001b[1;32m      3\u001b[0m \u001b[38;5;28;01massert\u001b[39;00m math\u001b[38;5;241m.\u001b[39misclose(Sphere\u001b[38;5;241m.\u001b[39mfrom_circ(\u001b[38;5;241m6\u001b[39m)\u001b[38;5;241m.\u001b[39mradius, \u001b[38;5;241m0.95\u001b[39m, abs_tol\u001b[38;5;241m=\u001b[39m\u001b[38;5;241m0.1\u001b[39m), \u001b[38;5;124m\"\u001b[39m\u001b[38;5;124mTest 3 failed.\u001b[39m\u001b[38;5;124m\"\u001b[39m\n",
      "\u001b[0;31mNameError\u001b[0m: name 'Sphere' is not defined"
     ]
    }
   ],
   "source": [
    "assert Sphere.from_circ(0).radius == 0, \"Test 1 failed.\"\n",
    "assert Sphere.from_circ(3 * math.pi).radius == 1.5, \"Test 2 failed.\" \n",
    "assert math.isclose(Sphere.from_circ(6).radius, 0.95, abs_tol=0.1), \"Test 3 failed.\"\n",
    "assert math.isclose(Sphere.from_circ(6).volume(), 3.65, abs_tol=0.1), \"Test 4 failed.\"\n",
    "assert Sphere.from_circ(6).__str__() == \"A Sphere with volume 3.65\", \"Test 5 failed.\""
   ]
  },
  {
   "cell_type": "code",
   "execution_count": 13,
   "metadata": {},
   "outputs": [],
   "source": [
    "def area(radius):\n",
    "    \"\"\"Calculate the area of a circle based on the given radius.\"\"\"\n",
    "    return math.pi * radius ** 2"
   ]
  },
  {
   "cell_type": "code",
   "execution_count": 14,
   "metadata": {},
   "outputs": [],
   "source": [
    "assert isinstance(area(1), float), 'Test 1 failed!'\n",
    "assert area(0) == 0, 'Test 2 failed!'\n",
    "assert math.isclose(area(5), 78.5, abs_tol=0.1)"
   ]
  },
  {
   "cell_type": "code",
   "execution_count": 15,
   "metadata": {
    "tags": [
     "raises-exception"
    ]
   },
   "outputs": [
    {
     "ename": "TypeError",
     "evalue": "unsupported operand type(s) for ** or pow(): 'str' and 'int'",
     "output_type": "error",
     "traceback": [
      "\u001b[0;31m---------------------------------------------------------------------------\u001b[0m",
      "\u001b[0;31mTypeError\u001b[0m                                 Traceback (most recent call last)",
      "Cell \u001b[0;32mIn[15], line 1\u001b[0m\n\u001b[0;32m----> 1\u001b[0m \u001b[43marea\u001b[49m\u001b[43m(\u001b[49m\u001b[38;5;124;43m'\u001b[39;49m\u001b[38;5;124;43m10\u001b[39;49m\u001b[38;5;124;43m'\u001b[39;49m\u001b[43m)\u001b[49m\n",
      "Cell \u001b[0;32mIn[13], line 3\u001b[0m, in \u001b[0;36marea\u001b[0;34m(radius)\u001b[0m\n\u001b[1;32m      1\u001b[0m \u001b[38;5;28;01mdef\u001b[39;00m \u001b[38;5;21marea\u001b[39m(radius):\n\u001b[1;32m      2\u001b[0m \u001b[38;5;250m    \u001b[39m\u001b[38;5;124;03m\"\"\"Calculate the area of a circle based on the given radius.\"\"\"\u001b[39;00m\n\u001b[0;32m----> 3\u001b[0m     \u001b[38;5;28;01mreturn\u001b[39;00m math\u001b[38;5;241m.\u001b[39mpi \u001b[38;5;241m*\u001b[39m \u001b[43mradius\u001b[49m\u001b[43m \u001b[49m\u001b[38;5;241;43m*\u001b[39;49m\u001b[38;5;241;43m*\u001b[39;49m\u001b[43m \u001b[49m\u001b[38;5;241;43m2\u001b[39;49m\n",
      "\u001b[0;31mTypeError\u001b[0m: unsupported operand type(s) for ** or pow(): 'str' and 'int'"
     ]
    }
   ],
   "source": [
    "area('10')"
   ]
  },
  {
   "cell_type": "code",
   "execution_count": 16,
   "metadata": {},
   "outputs": [],
   "source": [
    "def area(radius):\n",
    "    \"\"\"Calculate the area of a circle based on the given radius.\"\"\"\n",
    "    try:\n",
    "        return math.pi * radius ** 2\n",
    "    except TypeError:\n",
    "        print(f\"radius should be a number but you entered a {type(radius)}\")\n",
    "    except:\n",
    "        print(\"Some other error occurred!\")"
   ]
  },
  {
   "cell_type": "code",
   "execution_count": 17,
   "metadata": {},
   "outputs": [],
   "source": [
    "def area(radius):\n",
    "    \"\"\"Calculate the area of a circle based on the given radius.\"\"\"\n",
    "    if isinstance(radius, (int, float)):\n",
    "        return math.pi * radius ** 2\n",
    "    else:\n",
    "        raise TypeError(f\"radius should be a number but you entered a {type(radius)}\")"
   ]
  },
  {
   "cell_type": "code",
   "execution_count": 18,
   "metadata": {},
   "outputs": [],
   "source": [
    "class Circle:\n",
    "    \"\"\"A circle with a radius r.\"\"\"\n",
    "\n",
    "    def __init__(self, radius):\n",
    "        self.radius = radius\n",
    "\n",
    "    def area(self):\n",
    "        \"\"\"Calculate the area of the circle.\"\"\"\n",
    "        return math.pi * self.radius ** 2\n",
    "\n",
    "    def circumference(self):\n",
    "        \"\"\"Calculate the circumference of the circle.\"\"\"\n",
    "        return 2.0 * math.pi * self.radius\n",
    "\n",
    "    def __str__(self):\n",
    "        return f\"A Circle with radius {self.radius}\""
   ]
  },
  {
   "cell_type": "code",
   "execution_count": 19,
   "metadata": {},
   "outputs": [],
   "source": [
    "assert Circle(3).radius == 3, \"Test 1 failed.\"\n",
    "assert math.isclose(Circle(3).area(), 28.3, abs_tol=0.1), \"Test 2 failed.\"\n",
    "assert math.isclose(Circle(3).circumference(), 18.8, abs_tol=0.1), \"Test 3 failed.\"\n",
    "assert Circle(3).__str__() == \"A Circle with radius 3\", \"Test 4 failed.\""
   ]
  },
  {
   "cell_type": "code",
   "execution_count": 20,
   "metadata": {},
   "outputs": [],
   "source": [
    "class Sphere(Circle):\n",
    "    \"\"\"A sphere with a radius r.\"\"\"\n",
    "    \n",
    "    def volume(self):\n",
    "        \"\"\"Calculate the volume of the sphere.\"\"\"\n",
    "        return 4 / 3 * math.pi * self.radius ** 3\n",
    "\n",
    "    def __str__(self):\n",
    "        return f\"A Sphere with volume {self.volume():.2f}\""
   ]
  },
  {
   "cell_type": "code",
   "execution_count": 21,
   "metadata": {},
   "outputs": [],
   "source": [
    "assert Sphere(3).radius == 3, \"Test 1 failed.\"\n",
    "assert math.isclose(Sphere(3).area(), 28.3, abs_tol=0.1), \"Test 2 failed.\"\n",
    "assert math.isclose(Sphere(3).circumference(), 18.8, abs_tol=0.1), \"Test 3 failed.\"\n",
    "assert math.isclose(Sphere(3).volume(), 113.1, abs_tol=0.1), \"Test 3 failed.\"\n",
    "assert Sphere(1).__str__() == \"A Sphere with volume 4.19\", \"Test 4 failed.\""
   ]
  },
  {
   "cell_type": "code",
   "execution_count": 22,
   "metadata": {},
   "outputs": [],
   "source": [
    "class Sphere(Circle):\n",
    "    \"\"\"A sphere with a radius r.\"\"\"\n",
    "    \n",
    "    def volume(self):\n",
    "        \"\"\"Calculate the volume of the sphere.\"\"\"\n",
    "        return 4 / 3 * math.pi * self.radius ** 3\n",
    "    \n",
    "    @classmethod\n",
    "    def from_circ(cls, circumference):\n",
    "        \"\"\"Make an instance of Sphere from a circumference.\"\"\"\n",
    "        radius = circumference / (2 * math.pi)\n",
    "        return cls(radius)\n",
    "\n",
    "    def __str__(self):\n",
    "        return f\"A Sphere with volume {self.volume():.2f}\""
   ]
  },
  {
   "cell_type": "code",
   "execution_count": 23,
   "metadata": {},
   "outputs": [],
   "source": [
    "assert Sphere.from_circ(0).radius == 0, \"Test 1 failed.\"\n",
    "assert Sphere.from_circ(3 * math.pi).radius == 1.5, \"Test 2 failed.\" \n",
    "assert math.isclose(Sphere.from_circ(6).radius, 0.95, abs_tol=0.1), \"Test 3 failed.\"\n",
    "assert math.isclose(Sphere.from_circ(6).volume(), 3.65, abs_tol=0.1), \"Test 4 failed.\"\n",
    "assert Sphere.from_circ(6).__str__() == \"A Sphere with volume 3.65\", \"Test 5 failed.\""
   ]
  }
 ],
 "metadata": {
  "kernelspec": {
   "display_name": "Python 3",
   "language": "python",
   "name": "python3"
  },
  "language_info": {
   "codemirror_mode": {
    "name": "ipython",
    "version": 3
   },
   "file_extension": ".py",
   "mimetype": "text/x-python",
   "name": "python",
   "nbconvert_exporter": "python",
   "pygments_lexer": "ipython3",
   "version": "3.10.13"
  }
 },
 "nbformat": 4,
 "nbformat_minor": 4
}